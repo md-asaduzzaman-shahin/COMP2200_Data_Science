{
  "cells": [
    {
      "cell_type": "code",
      "execution_count": 2,
      "id": "4900f0d4",
      "metadata": {},
      "outputs": [],
      "source": [
        "name = \"Md Asaduzzaman Shahin\"\n",
        "id = \"48225320\""
      ]
    },
    {
      "cell_type": "markdown",
      "id": "Z88FfJc9lA_T",
      "metadata": {
        "id": "Z88FfJc9lA_T"
      },
      "source": [
        "## Analysis of an E-commerce Dataset Part 2"
      ]
    },
    {
      "cell_type": "markdown",
      "id": "hoq0NwA9lA_V",
      "metadata": {
        "id": "hoq0NwA9lA_V"
      },
      "source": [
        "The goal of the second analysis task is to train linear regression models to predict users' ratings towards items. This involves a standard Data Science workflow: exploring data, building models, making predictions, and evaluating results. In this task, we will explore the impacts of feature selections and different sizes of training/testing data on the model performance. We will use another cleaned combined e-commerce sub-dataset that **is different from** the one in “Analysis of an E-commerce Dataset” task 1."
      ]
    },
    {
      "cell_type": "code",
      "execution_count": 3,
      "id": "7001a7d2",
      "metadata": {},
      "outputs": [],
      "source": [
        "import numpy as np\n",
        "import pandas as pd\n",
        "import matplotlib.pyplot as plt\n",
        "%matplotlib inline\n",
        "import seaborn as sns"
      ]
    },
    {
      "cell_type": "markdown",
      "id": "f9fd3NU_lA_W",
      "metadata": {
        "id": "f9fd3NU_lA_W"
      },
      "source": [
        "### Import Cleaned E-commerce Dataset\n",
        "The csv file named 'cleaned_ecommerce_dataset.csv' is provided. You may need to use the Pandas method, i.e., `read_csv`, for reading it. After that, please print out its total length."
      ]
    },
    {
      "cell_type": "code",
      "execution_count": 1,
      "id": "PJrb2gtAlA_W",
      "metadata": {
        "id": "PJrb2gtAlA_W"
      },
      "outputs": [
        {
          "name": "stdout",
          "output_type": "stream",
          "text": [
            "2685\n"
          ]
        }
      ],
      "source": [
        "import pandas as pd\n",
        "\n",
        "df = pd.read_csv('cleaned_ecommerce_dataset.csv')\n",
        "print(len(df))\n"
      ]
    },
    {
      "cell_type": "markdown",
      "id": "aqbuU6rglA_X",
      "metadata": {
        "id": "aqbuU6rglA_X"
      },
      "source": [
        "### Explore the Dataset\n",
        "\n",
        "* Use the methods, i.e., `head()` and `info()`, to have a rough picture about the data, e.g., how many columns, and the data types of each column.\n",
        "* As our goal is to predict ratings given other columns, please get the correlations between helpfulness/gender/category/review and rating by using the `corr()` method.\n",
        "\n",
        "  Hints: To get the correlations between different features, you may need to first convert the categorical features (i.e., gender, category and review) into numerial values. For doing this, you may need to import `OrdinalEncoder` from `sklearn.preprocessing` (refer to the useful exmaples [here](https://pbpython.com/categorical-encoding.html))\n",
        "* Please provide ___necessary explanations/analysis___ on the correlations, and figure out which are the ___most___ and ___least___ corrleated features regarding rating. Try to ___discuss___ how the correlation will affect the final prediction results, if we use these features to train a regression model for rating prediction. In what follows, we will conduct experiments to verify your hypothesis."
      ]
    },
    {
      "cell_type": "code",
      "execution_count": 2,
      "id": "W3PImHiElA_X",
      "metadata": {
        "id": "W3PImHiElA_X"
      },
      "outputs": [
        {
          "name": "stdout",
          "output_type": "stream",
          "text": [
            "   userId  timestamp                                           review  \\\n",
            "0    4081      71900                                Not always McCrap   \n",
            "1    4081      72000  I dropped the chalupa even before he told me to   \n",
            "2    4081      72000                     The Wonderful World of Wendy   \n",
            "3    4081     100399                             They actually did it   \n",
            "4    4081     100399                             Hey! Gimme some pie!   \n",
            "\n",
            "                                 item  rating  helpfulness gender  \\\n",
            "0                          McDonald's     4.0          3.0      M   \n",
            "1                           Taco Bell     1.0          4.0      M   \n",
            "2                             Wendy's     5.0          4.0      M   \n",
            "3  South Park: Bigger, Longer & Uncut     5.0          3.0      M   \n",
            "4                        American Pie     3.0          3.0      M   \n",
            "\n",
            "                category  item_id  item_price  user_city  \n",
            "0  Restaurants & Gourmet       41       30.74          4  \n",
            "1  Restaurants & Gourmet       74      108.30          4  \n",
            "2  Restaurants & Gourmet       84       69.00          4  \n",
            "3                 Movies       68      143.11          4  \n",
            "4                 Movies        6      117.89          4  \n",
            "<class 'pandas.core.frame.DataFrame'>\n",
            "RangeIndex: 2685 entries, 0 to 2684\n",
            "Data columns (total 11 columns):\n",
            " #   Column       Non-Null Count  Dtype  \n",
            "---  ------       --------------  -----  \n",
            " 0   userId       2685 non-null   int64  \n",
            " 1   timestamp    2685 non-null   int64  \n",
            " 2   review       2685 non-null   object \n",
            " 3   item         2685 non-null   object \n",
            " 4   rating       2685 non-null   float64\n",
            " 5   helpfulness  2685 non-null   float64\n",
            " 6   gender       2685 non-null   object \n",
            " 7   category     2685 non-null   object \n",
            " 8   item_id      2685 non-null   int64  \n",
            " 9   item_price   2685 non-null   float64\n",
            " 10  user_city    2685 non-null   int64  \n",
            "dtypes: float64(3), int64(4), object(4)\n",
            "memory usage: 230.9+ KB\n",
            "None\n"
          ]
        }
      ],
      "source": [
        "print(df.head())\n",
        "print(df.info())"
      ]
    },
    {
      "cell_type": "code",
      "execution_count": 4,
      "id": "f9665e7b",
      "metadata": {},
      "outputs": [
        {
          "name": "stdout",
          "output_type": "stream",
          "text": [
            "             helpfulness    gender  category    review    rating\n",
            "helpfulness     1.000000  0.075947 -0.013408 -0.028259 -0.007523\n",
            "gender          0.075947  1.000000  0.022549 -0.037884 -0.034337\n",
            "category       -0.013408  0.022549  1.000000  0.001970 -0.163158\n",
            "review         -0.028259 -0.037884  0.001970  1.000000 -0.036118\n",
            "rating         -0.007523 -0.034337 -0.163158 -0.036118  1.000000\n"
          ]
        }
      ],
      "source": [
        "from sklearn.preprocessing import OrdinalEncoder\n",
        "\n",
        "# Convert categorical features to numerical values\n",
        "encoder = OrdinalEncoder()\n",
        "df_encoded = df.copy()\n",
        "df_encoded[['gender', 'category', 'review']] = encoder.fit_transform(df[['gender', 'category', 'review']])\n",
        "\n",
        "# Calculate correlations\n",
        "correlations = df_encoded[['helpfulness', 'gender', 'category', 'review', 'rating']].corr()\n",
        "\n",
        "\n",
        "print(correlations)"
      ]
    },
    {
      "cell_type": "markdown",
      "id": "60bd93d1",
      "metadata": {},
      "source": [
        "**Analysis**\n",
        "<p>By examining the relationships between features and ratings, we can understand their interdependence. The feature with the strongest correlation to the rating has a larger absolute correlation value, indicating a powerful connection. Conversely, the feature with the weakest correlation has a smaller absolute correlation value, indicating a weaker connection. Correlation values range from -1 to 1: - -1: Strongly negative correlation - 1: Strongly positive correlation - 0: No correlation Positive correlation. The correlations can affect the final prediction results when training a regression model for rating prediction. Features with a higher absolute correlation value will have a stronger impact on the prediction results. Therefore, it is important to consider the correlations when selecting features for the regression model.<p>"
      ]
    },
    {
      "cell_type": "markdown",
      "id": "4myP5igslA_Y",
      "metadata": {
        "id": "4myP5igslA_Y"
      },
      "source": [
        "### Split Training and Testing Data\n",
        "* Machine learning models are trained to help make predictions for the future. Normally, we need to randomly split the dataset into training and testing sets, where we use the training set to train the model, and then leverage the well-trained model to make predictions on the testing set.\n",
        "* To further investigate whether the size of the training/testing data affects the model performance, please random split the data into training and testing sets with different sizes:\n",
        "    * Case 1: training data containing 10% of the entire data;\n",
        "    * Case 2: training data containing 90% of the entire data.\n",
        "* Print the shape of training and testing sets in the two cases."
      ]
    },
    {
      "cell_type": "code",
      "execution_count": 6,
      "id": "JIDMig9blA_Y",
      "metadata": {
        "id": "JIDMig9blA_Y"
      },
      "outputs": [
        {
          "name": "stdout",
          "output_type": "stream",
          "text": [
            "Case 1:\n",
            "Training data shape: (2416, 11)\n",
            "Testing data shape: (269, 11)\n",
            "Case 2:\n",
            "Training data shape: (268, 11)\n",
            "Testing data shape: (2417, 11)\n"
          ]
        }
      ],
      "source": [
        "from sklearn.model_selection import train_test_split\n",
        "\n",
        "# Case 1: training data containing 10% of the entire data\n",
        "train_data_1, test_data_1 = train_test_split(df_encoded, test_size=0.1, random_state=42)\n",
        "\n",
        "\n",
        "print(\"Case 1:\")\n",
        "print(\"Training data shape:\", train_data_1.shape)\n",
        "print(\"Testing data shape:\", test_data_1.shape)\n",
        "\n",
        "# Case 2: training data containing 90% of the entire data\n",
        "train_data_2, test_data_2 = train_test_split(df_encoded, test_size=0.9, random_state=42)\n",
        "\n",
        "\n",
        "print(\"Case 2:\")\n",
        "print(\"Training data shape:\", train_data_2.shape)\n",
        "print(\"Testing data shape:\", test_data_2.shape)\n"
      ]
    },
    {
      "cell_type": "markdown",
      "id": "DjSsgT0BlA_Y",
      "metadata": {
        "id": "DjSsgT0BlA_Y"
      },
      "source": [
        "### Train Linear Regression Models with Feature Selection under Cases 1 & 2\n",
        "* When training a machine learning model for prediction, we may need to select the most important/correlated input features for more accurate results.\n",
        "* To investigate whether feature selection affects the model performance, please select two most correlated features and two least correlated features from helpfulness/gender/category/review regarding rating, respectively.\n",
        "* Train four linear regression models by following the conditions:\n",
        "    - (model-a) using the training/testing data in case 1 with two most correlated input features\n",
        "    - (model-b) using the training/testing data in case 1 with two least correlated input features\n",
        "    - (model-c) using the training/testing data in case 2 with two most correlated input features\n",
        "    - (model-d) using the training/testing data in case 2 with two least correlated input features\n",
        "* By doing this, we can verify the impacts of the size of traing/testing data on the model performance via comparing model-a and model-c (or model-b and model-d); meanwhile the impacts of feature selection can be validated via comparing model-a and model-b (or model-c and model-d).    "
      ]
    },
    {
      "cell_type": "code",
      "execution_count": 7,
      "id": "4c1b8552",
      "metadata": {},
      "outputs": [],
      "source": [
        "\n",
        "from sklearn.linear_model import LinearRegression\n",
        "# Model-a: Using the training/testing data in Case 1 with two most correlated input features\n",
        "X_train_a = train_data_1[['category', 'gender']]\n",
        "y_train_a = train_data_1['rating']\n",
        "X_test_a = test_data_1[['category', 'gender']]\n",
        "y_test_a = test_data_1['rating']\n",
        "\n",
        "model_a = LinearRegression()\n",
        "model_a.fit(X_train_a, y_train_a)\n",
        "predictions_a = model_a.predict(X_test_a)\n",
        "\n",
        "# Model-b: Using the training/testing data in Case 1 with two least correlated input features\n",
        "X_train_b = train_data_1[['helpfulness', 'review']]\n",
        "y_train_b = train_data_1['rating']\n",
        "X_test_b = test_data_1[['helpfulness', 'review']]\n",
        "y_test_b = test_data_1['rating']\n",
        "\n",
        "model_b = LinearRegression()\n",
        "model_b.fit(X_train_b, y_train_b)\n",
        "predictions_b = model_b.predict(X_test_b)\n",
        "\n",
        "# Model-c: Using the training/testing data in Case 2 with two most correlated input features\n",
        "X_train_c = train_data_2[['category', 'gender']]\n",
        "y_train_c = train_data_2['rating']\n",
        "X_test_c = test_data_2[['category', 'gender']]\n",
        "y_test_c = test_data_2['rating']\n",
        "\n",
        "model_c = LinearRegression()\n",
        "model_c.fit(X_train_c, y_train_c)\n",
        "predictions_c = model_c.predict(X_test_c)\n",
        "\n",
        "# Model-d: Using the training/testing data in Case 2 with two least correlated input features\n",
        "X_train_d = train_data_2[['helpfulness', 'review']]\n",
        "y_train_d = train_data_2['rating']\n",
        "X_test_d = test_data_2[['helpfulness', 'review']]\n",
        "y_test_d = test_data_2['rating']\n",
        "\n",
        "model_d = LinearRegression()\n",
        "model_d.fit(X_train_d, y_train_d)\n",
        "predictions_d = model_d.predict(X_test_d)"
      ]
    },
    {
      "cell_type": "markdown",
      "id": "KATSn7hYlA_Z",
      "metadata": {
        "id": "KATSn7hYlA_Z"
      },
      "source": [
        "### Evaluate Models\n",
        "* Evaluate the performance of the four models with two metrics, including MSE and Root MSE\n",
        "* Print the results of the four models regarding the two metrics"
      ]
    },
    {
      "cell_type": "code",
      "execution_count": 9,
      "id": "298da5ba",
      "metadata": {},
      "outputs": [
        {
          "name": "stdout",
          "output_type": "stream",
          "text": [
            "Model A (Case 1 - Most correlated features):\n",
            "MSE: 1.6762330042324514\n",
            "RMSE: 1.2946941740165712\n",
            "\n",
            "Model B (Case 1 - Least correlated features):\n",
            "MSE: 1.7315431520816083\n",
            "RMSE: 1.3158811314406815\n",
            "\n",
            "Model C (Case 2 - Most correlated features):\n",
            "MSE: 1.8076399168603041\n",
            "RMSE: 1.3444850006081526\n",
            "\n",
            "Model D (Case 2 - Least correlated features):\n",
            "MSE: 1.8275341162748118\n",
            "RMSE: 1.3518632017607446\n"
          ]
        }
      ],
      "source": [
        "from sklearn.metrics import mean_squared_error\n",
        "import numpy as np\n",
        "\n",
        "mse_a = mean_squared_error(y_test_a, predictions_a)\n",
        "rmse_a = np.sqrt(mse_a)\n",
        "print(\"Model A (Case 1 - Most correlated features):\")\n",
        "print(\"MSE:\", mse_a)\n",
        "print(\"RMSE:\", rmse_a)\n",
        "\n",
        "\n",
        "mse_b = mean_squared_error(y_test_b, predictions_b)\n",
        "rmse_b = np.sqrt(mse_b)\n",
        "print(\"\\nModel B (Case 1 - Least correlated features):\")\n",
        "print(\"MSE:\", mse_b)\n",
        "print(\"RMSE:\", rmse_b)\n",
        "\n",
        "\n",
        "mse_c = mean_squared_error(y_test_c, predictions_c)\n",
        "rmse_c = np.sqrt(mse_c)\n",
        "print(\"\\nModel C (Case 2 - Most correlated features):\")\n",
        "print(\"MSE:\", mse_c)\n",
        "print(\"RMSE:\", rmse_c)\n",
        "\n",
        "\n",
        "mse_d = mean_squared_error(y_test_d, predictions_d)\n",
        "rmse_d = np.sqrt(mse_d)\n",
        "print(\"\\nModel D (Case 2 - Least correlated features):\")\n",
        "print(\"MSE:\", mse_d)\n",
        "print(\"RMSE:\", rmse_d)\n"
      ]
    },
    {
      "cell_type": "markdown",
      "id": "Y9jx-eY6lA_a",
      "metadata": {
        "id": "Y9jx-eY6lA_a"
      },
      "source": [
        "### Visualize, Compare and Analyze the Results\n",
        "* Visulize the results, and perform ___insightful analysis___ on the obtained results. For better visualization, you may need to carefully set the scale for the y-axis.\n",
        "* Normally, the model trained with most correlated features and more training data will get better results. Do you obtain the similar observations? If not, please ___explain the possible reasons___."
      ]
    },
    {
      "cell_type": "code",
      "execution_count": 10,
      "id": "3TNAIGDilA_a",
      "metadata": {
        "id": "3TNAIGDilA_a"
      },
      "outputs": [
        {
          "data": {
            "image/png": "[encoded data removed]",
            "text/plain": [
              "<Figure size 640x480 with 1 Axes>"
            ]
          },
          "metadata": {},
          "output_type": "display_data"
        },
        {
          "data": {
            "image/png": "[encoded data removed]",
            "text/plain": [
              "<Figure size 640x480 with 1 Axes>"
            ]
          },
          "metadata": {},
          "output_type": "display_data"
        }
      ],
      "source": [
        "import matplotlib.pyplot as plt\n",
        "\n",
        "# Create a bar plot of MSE for each model\n",
        "models = ['Model-a', 'Model-b', 'Model-c', 'Model-d']\n",
        "mse_values = [mse_a, mse_b, mse_c, mse_d]\n",
        "\n",
        "plt.bar(models, mse_values)\n",
        "plt.xlabel('Models')\n",
        "plt.ylabel('MSE')\n",
        "plt.title('Comparison of MSE for Different Models')\n",
        "plt.show()\n",
        "\n",
        "# Create a bar plot of RMSE for each model\n",
        "rmse_values = [rmse_a, rmse_b, rmse_c, rmse_d]\n",
        "\n",
        "plt.bar(models, rmse_values, color='orange')\n",
        "plt.xlabel('Models')\n",
        "plt.ylabel('RMSE')\n",
        "plt.title('Comparison of RMSE for Different Models')\n",
        "plt.show()\n"
      ]
    },
    {
      "cell_type": "markdown",
      "id": "e5afed99",
      "metadata": {},
      "source": [
        "**Analysis**  \n",
        "**Model A vs. Model B:**\n",
        "<p>Model A was trained with the two most correlated input features.\n",
        "Model B was trained with the two least correlated input features.\n",
        "The MSE and RMSE values for Model A are generally lower than those for Model B.\n",
        "This suggests that using the most correlated features leads to better predictive performance compared to using the least correlated features.<p>\n",
        "\n",
        "**Model C vs. Model D:**\n",
        "<p>Model C was trained with the two most correlated input features.\n",
        "Model D was trained with the two least correlated input features.\n",
        "Interestingly, the performance of Model C and Model D differs from the expectation.\n",
        "The MSE and RMSE values for Model C may not necessarily be lower than those for Model D.<p>\n",
        "\n",
        "**Impact of Training Data Size:**\n",
        "<p>Comparing Model A (trained with 10% of the data) and Model C (trained with 90% of the data), we might expect Model C to outperform Model A due to the larger training dataset.\n",
        "However, this may not always be the case, as seen in the analysis of Model C vs. Model D.<p>"
      ]
    },
    {
      "cell_type": "markdown",
      "id": "f9ee01ac",
      "metadata": {
        "id": "f9ee01ac"
      },
      "source": [
        "### Data Science Ethics\n",
        "*Please read the following examples [Click here to read the example_1.](https://www.vox.com/covid-19-coronavirus-us-response-trump/2020/5/18/21262265/georgia-covid-19-cases-declining-reopening) [Click here to read the example_2.](https://viborc.com/ethics-and-ethical-data-visualization-a-complete-guide/)\n",
        "\n",
        "*Then view the picture ![My Image](figure_portfolio2.png \"This is my image\")\n",
        "Please compose an analysis of 100-200 words that evaluates potential ethical concerns associated with the infographic, detailing the reasons behind these issues.\n"
      ]
    },
    {
      "cell_type": "markdown",
      "id": "434f8c0f",
      "metadata": {},
      "source": [
        "<p>Ethical Concerns in the Infographic\n",
        "While the infographic presents Olympic medal data clearly, there are potential ethical issues to consider. Firstly, focusing solely on medal count without mentioning population or economic disparity between nations can be misleading. A country with a larger population or greater resources might naturally win more medals. This lack of context could downplay the achievements of smaller nations.\n",
        "\n",
        "Secondly, presenting only the top medal winners excludes the participation and achievements of other countries. This creates a narrative of dominance by a select few, potentially overshadowing the efforts of other competing nations.\n",
        "\n",
        "Finally, infographics rely on visual elements to convey information. Without additional details about data source or methodology, it's difficult to assess the infographic's accuracy. This lack of transparency could raise doubts about the information presented.</p>"
      ]
    }
  ],
  "metadata": {
    "colab": {
      "provenance": []
    },
    "kernelspec": {
      "display_name": "Python 3 (ipykernel)",
      "language": "python",
      "name": "python3"
    },
    "language_info": {
      "codemirror_mode": {
        "name": "ipython",
        "version": 3
      },
      "file_extension": ".py",
      "mimetype": "text/x-python",
      "name": "python",
      "nbconvert_exporter": "python",
      "pygments_lexer": "ipython3",
      "version": "3.11.9"
    }
  },
  "nbformat": 4,
  "nbformat_minor": 5
}
