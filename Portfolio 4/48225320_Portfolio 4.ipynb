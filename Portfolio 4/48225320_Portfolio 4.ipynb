{
 "cells": [
  {
   "cell_type": "code",
   "execution_count": 34,
   "metadata": {},
   "outputs": [],
   "source": [
    "name = \"Md Asaduzzaman Shahin\"\n",
    "id = \"48225320\"\n",
    "dataset_source = \"https://www.kaggle.com/datasets/zusmani/uberdrives\""
   ]
  },
  {
   "cell_type": "code",
   "execution_count": 1,
   "metadata": {},
   "outputs": [],
   "source": [
    "import numpy as np\n",
    "import pandas as pd\n",
    "import seaborn as sns\n",
    "import matplotlib.pyplot as plt\n",
    "import plotly\n",
    "from datetime import datetime"
   ]
  },
  {
   "cell_type": "code",
   "execution_count": 2,
   "metadata": {},
   "outputs": [
    {
     "name": "stdout",
     "output_type": "stream",
     "text": [
      "(1156, 7)\n"
     ]
    }
   ],
   "source": [
    "uber_data = pd.read_csv('My Uber Drives - 2016.csv')\n",
    "print(uber_data.shape)"
   ]
  },
  {
   "cell_type": "markdown",
   "metadata": {},
   "source": [
    "### Exploring the dataset"
   ]
  },
  {
   "cell_type": "code",
   "execution_count": 3,
   "metadata": {},
   "outputs": [
    {
     "data": {
      "text/html": [
       "<div>\n",
       "<style scoped>\n",
       "    .dataframe tbody tr th:only-of-type {\n",
       "        vertical-align: middle;\n",
       "    }\n",
       "\n",
       "    .dataframe tbody tr th {\n",
       "        vertical-align: top;\n",
       "    }\n",
       "\n",
       "    .dataframe thead th {\n",
       "        text-align: right;\n",
       "    }\n",
       "</style>\n",
       "<table border=\"1\" class=\"dataframe\">\n",
       "  <thead>\n",
       "    <tr style=\"text-align: right;\">\n",
       "      <th></th>\n",
       "      <th>START_DATE*</th>\n",
       "      <th>END_DATE*</th>\n",
       "      <th>CATEGORY*</th>\n",
       "      <th>START*</th>\n",
       "      <th>STOP*</th>\n",
       "      <th>MILES*</th>\n",
       "      <th>PURPOSE*</th>\n",
       "    </tr>\n",
       "  </thead>\n",
       "  <tbody>\n",
       "    <tr>\n",
       "      <th>0</th>\n",
       "      <td>1/1/2016 21:11</td>\n",
       "      <td>1/1/2016 21:17</td>\n",
       "      <td>Business</td>\n",
       "      <td>Fort Pierce</td>\n",
       "      <td>Fort Pierce</td>\n",
       "      <td>5.1</td>\n",
       "      <td>Meal/Entertain</td>\n",
       "    </tr>\n",
       "    <tr>\n",
       "      <th>1</th>\n",
       "      <td>1/2/2016 1:25</td>\n",
       "      <td>1/2/2016 1:37</td>\n",
       "      <td>Business</td>\n",
       "      <td>Fort Pierce</td>\n",
       "      <td>Fort Pierce</td>\n",
       "      <td>5.0</td>\n",
       "      <td>NaN</td>\n",
       "    </tr>\n",
       "    <tr>\n",
       "      <th>2</th>\n",
       "      <td>1/2/2016 20:25</td>\n",
       "      <td>1/2/2016 20:38</td>\n",
       "      <td>Business</td>\n",
       "      <td>Fort Pierce</td>\n",
       "      <td>Fort Pierce</td>\n",
       "      <td>4.8</td>\n",
       "      <td>Errand/Supplies</td>\n",
       "    </tr>\n",
       "    <tr>\n",
       "      <th>3</th>\n",
       "      <td>1/5/2016 17:31</td>\n",
       "      <td>1/5/2016 17:45</td>\n",
       "      <td>Business</td>\n",
       "      <td>Fort Pierce</td>\n",
       "      <td>Fort Pierce</td>\n",
       "      <td>4.7</td>\n",
       "      <td>Meeting</td>\n",
       "    </tr>\n",
       "    <tr>\n",
       "      <th>4</th>\n",
       "      <td>1/6/2016 14:42</td>\n",
       "      <td>1/6/2016 15:49</td>\n",
       "      <td>Business</td>\n",
       "      <td>Fort Pierce</td>\n",
       "      <td>West Palm Beach</td>\n",
       "      <td>63.7</td>\n",
       "      <td>Customer Visit</td>\n",
       "    </tr>\n",
       "  </tbody>\n",
       "</table>\n",
       "</div>"
      ],
      "text/plain": [
       "      START_DATE*       END_DATE* CATEGORY*       START*            STOP*  \\\n",
       "0  1/1/2016 21:11  1/1/2016 21:17  Business  Fort Pierce      Fort Pierce   \n",
       "1   1/2/2016 1:25   1/2/2016 1:37  Business  Fort Pierce      Fort Pierce   \n",
       "2  1/2/2016 20:25  1/2/2016 20:38  Business  Fort Pierce      Fort Pierce   \n",
       "3  1/5/2016 17:31  1/5/2016 17:45  Business  Fort Pierce      Fort Pierce   \n",
       "4  1/6/2016 14:42  1/6/2016 15:49  Business  Fort Pierce  West Palm Beach   \n",
       "\n",
       "   MILES*         PURPOSE*  \n",
       "0     5.1   Meal/Entertain  \n",
       "1     5.0              NaN  \n",
       "2     4.8  Errand/Supplies  \n",
       "3     4.7          Meeting  \n",
       "4    63.7   Customer Visit  "
      ]
     },
     "execution_count": 3,
     "metadata": {},
     "output_type": "execute_result"
    }
   ],
   "source": [
    "uber_data.head()"
   ]
  },
  {
   "cell_type": "code",
   "execution_count": 4,
   "metadata": {},
   "outputs": [
    {
     "data": {
      "text/plain": [
       "START_DATE*     0.000000\n",
       "END_DATE*       0.086505\n",
       "CATEGORY*       0.086505\n",
       "START*          0.086505\n",
       "STOP*           0.086505\n",
       "MILES*          0.000000\n",
       "PURPOSE*       43.512111\n",
       "dtype: float64"
      ]
     },
     "execution_count": 4,
     "metadata": {},
     "output_type": "execute_result"
    }
   ],
   "source": [
    "(uber_data.isna().sum() / uber_data.shape[0]) * 100\n"
   ]
  },
  {
   "cell_type": "markdown",
   "metadata": {},
   "source": [
    "**_Findings:_**\n",
    "- The Purpose column exhibits a 43.46% values missing, indicating that approximately half of the entries in this column lack data.\n"
   ]
  },
  {
   "cell_type": "code",
   "execution_count": 27,
   "metadata": {},
   "outputs": [
    {
     "data": {
      "text/plain": [
       "start_date    1097\n",
       "end_date      1097\n",
       "category         2\n",
       "start          160\n",
       "stop           173\n",
       "miles          201\n",
       "purpose         10\n",
       "dtype: int64"
      ]
     },
     "execution_count": 27,
     "metadata": {},
     "output_type": "execute_result"
    }
   ],
   "source": [
    "uber_data.nunique()\n"
   ]
  },
  {
   "cell_type": "code",
   "execution_count": 6,
   "metadata": {},
   "outputs": [
    {
     "data": {
      "text/html": [
       "<div>\n",
       "<style scoped>\n",
       "    .dataframe tbody tr th:only-of-type {\n",
       "        vertical-align: middle;\n",
       "    }\n",
       "\n",
       "    .dataframe tbody tr th {\n",
       "        vertical-align: top;\n",
       "    }\n",
       "\n",
       "    .dataframe thead th {\n",
       "        text-align: right;\n",
       "    }\n",
       "</style>\n",
       "<table border=\"1\" class=\"dataframe\">\n",
       "  <thead>\n",
       "    <tr style=\"text-align: right;\">\n",
       "      <th></th>\n",
       "      <th>MILES*</th>\n",
       "    </tr>\n",
       "  </thead>\n",
       "  <tbody>\n",
       "    <tr>\n",
       "      <th>count</th>\n",
       "      <td>1156.000000</td>\n",
       "    </tr>\n",
       "    <tr>\n",
       "      <th>mean</th>\n",
       "      <td>21.115398</td>\n",
       "    </tr>\n",
       "    <tr>\n",
       "      <th>std</th>\n",
       "      <td>359.299007</td>\n",
       "    </tr>\n",
       "    <tr>\n",
       "      <th>min</th>\n",
       "      <td>0.500000</td>\n",
       "    </tr>\n",
       "    <tr>\n",
       "      <th>25%</th>\n",
       "      <td>2.900000</td>\n",
       "    </tr>\n",
       "    <tr>\n",
       "      <th>50%</th>\n",
       "      <td>6.000000</td>\n",
       "    </tr>\n",
       "    <tr>\n",
       "      <th>75%</th>\n",
       "      <td>10.400000</td>\n",
       "    </tr>\n",
       "    <tr>\n",
       "      <th>max</th>\n",
       "      <td>12204.700000</td>\n",
       "    </tr>\n",
       "  </tbody>\n",
       "</table>\n",
       "</div>"
      ],
      "text/plain": [
       "             MILES*\n",
       "count   1156.000000\n",
       "mean      21.115398\n",
       "std      359.299007\n",
       "min        0.500000\n",
       "25%        2.900000\n",
       "50%        6.000000\n",
       "75%       10.400000\n",
       "max    12204.700000"
      ]
     },
     "execution_count": 6,
     "metadata": {},
     "output_type": "execute_result"
    }
   ],
   "source": [
    "uber_data.describe()"
   ]
  },
  {
   "cell_type": "code",
   "execution_count": 7,
   "metadata": {},
   "outputs": [
    {
     "data": {
      "text/html": [
       "<div>\n",
       "<style scoped>\n",
       "    .dataframe tbody tr th:only-of-type {\n",
       "        vertical-align: middle;\n",
       "    }\n",
       "\n",
       "    .dataframe tbody tr th {\n",
       "        vertical-align: top;\n",
       "    }\n",
       "\n",
       "    .dataframe thead th {\n",
       "        text-align: right;\n",
       "    }\n",
       "</style>\n",
       "<table border=\"1\" class=\"dataframe\">\n",
       "  <thead>\n",
       "    <tr style=\"text-align: right;\">\n",
       "      <th></th>\n",
       "      <th>START_DATE*</th>\n",
       "      <th>END_DATE*</th>\n",
       "      <th>CATEGORY*</th>\n",
       "      <th>START*</th>\n",
       "      <th>STOP*</th>\n",
       "      <th>PURPOSE*</th>\n",
       "    </tr>\n",
       "  </thead>\n",
       "  <tbody>\n",
       "    <tr>\n",
       "      <th>count</th>\n",
       "      <td>1156</td>\n",
       "      <td>1155</td>\n",
       "      <td>1155</td>\n",
       "      <td>1155</td>\n",
       "      <td>1155</td>\n",
       "      <td>653</td>\n",
       "    </tr>\n",
       "    <tr>\n",
       "      <th>unique</th>\n",
       "      <td>1155</td>\n",
       "      <td>1154</td>\n",
       "      <td>2</td>\n",
       "      <td>177</td>\n",
       "      <td>188</td>\n",
       "      <td>10</td>\n",
       "    </tr>\n",
       "    <tr>\n",
       "      <th>top</th>\n",
       "      <td>6/28/2016 23:34</td>\n",
       "      <td>6/28/2016 23:59</td>\n",
       "      <td>Business</td>\n",
       "      <td>Cary</td>\n",
       "      <td>Cary</td>\n",
       "      <td>Meeting</td>\n",
       "    </tr>\n",
       "    <tr>\n",
       "      <th>freq</th>\n",
       "      <td>2</td>\n",
       "      <td>2</td>\n",
       "      <td>1078</td>\n",
       "      <td>201</td>\n",
       "      <td>203</td>\n",
       "      <td>187</td>\n",
       "    </tr>\n",
       "  </tbody>\n",
       "</table>\n",
       "</div>"
      ],
      "text/plain": [
       "            START_DATE*        END_DATE* CATEGORY* START* STOP* PURPOSE*\n",
       "count              1156             1155      1155   1155  1155      653\n",
       "unique             1155             1154         2    177   188       10\n",
       "top     6/28/2016 23:34  6/28/2016 23:59  Business   Cary  Cary  Meeting\n",
       "freq                  2                2      1078    201   203      187"
      ]
     },
     "execution_count": 7,
     "metadata": {},
     "output_type": "execute_result"
    }
   ],
   "source": [
    "uber_data.describe(include='object')"
   ]
  },
  {
   "cell_type": "code",
   "execution_count": 8,
   "metadata": {},
   "outputs": [],
   "source": [
    "# renaming the columns for the ease of use\n",
    "uber_data = uber_data.rename(columns=lambda x: x.replace('*', '').lower())"
   ]
  },
  {
   "cell_type": "code",
   "execution_count": 9,
   "metadata": {},
   "outputs": [
    {
     "data": {
      "text/plain": [
       "Index(['start_date', 'end_date', 'category', 'start', 'stop', 'miles',\n",
       "       'purpose'],\n",
       "      dtype='object')"
      ]
     },
     "execution_count": 9,
     "metadata": {},
     "output_type": "execute_result"
    }
   ],
   "source": [
    "uber_data.columns"
   ]
  },
  {
   "cell_type": "markdown",
   "metadata": {},
   "source": [
    "### Data Cleaning"
   ]
  },
  {
   "cell_type": "code",
   "execution_count": 10,
   "metadata": {},
   "outputs": [],
   "source": [
    "# converting STARTDATE and ENDDATE into datetime datetype to extract time and date \n",
    "uber_data['start_date'] = pd.to_datetime(uber_data['start_date'],errors='coerce')\n",
    "uber_data['end_date'] = pd.to_datetime(uber_data['end_date'],errors='coerce')"
   ]
  },
  {
   "cell_type": "code",
   "execution_count": 11,
   "metadata": {},
   "outputs": [
    {
     "data": {
      "text/plain": [
       "1"
      ]
     },
     "execution_count": 11,
     "metadata": {},
     "output_type": "execute_result"
    }
   ],
   "source": [
    "uber_data.duplicated().sum()"
   ]
  },
  {
   "cell_type": "code",
   "execution_count": 12,
   "metadata": {},
   "outputs": [
    {
     "name": "stdout",
     "output_type": "stream",
     "text": [
      "(1155, 7)\n"
     ]
    }
   ],
   "source": [
    "uber_data = uber_data.drop_duplicates()\n",
    "print(uber_data.shape)"
   ]
  },
  {
   "cell_type": "markdown",
   "metadata": {},
   "source": [
    "**treatment of null values in PURPOSE column as it carried about 43% of NaN values**  \n",
    "**filling the NaN values with Unknown variable to avoid data loss**"
   ]
  },
  {
   "cell_type": "code",
   "execution_count": 13,
   "metadata": {},
   "outputs": [
    {
     "name": "stdout",
     "output_type": "stream",
     "text": [
      "0        Meal/Entertain\n",
      "1               Unknown\n",
      "2       Errand/Supplies\n",
      "3               Meeting\n",
      "4        Customer Visit\n",
      "             ...       \n",
      "1151     Temporary Site\n",
      "1152            Meeting\n",
      "1153     Temporary Site\n",
      "1154     Temporary Site\n",
      "1155            Unknown\n",
      "Name: purpose, Length: 1155, dtype: object\n"
     ]
    },
    {
     "name": "stderr",
     "output_type": "stream",
     "text": [
      "C:\\Users\\Shahin\\AppData\\Local\\Temp\\ipykernel_1040\\3120909322.py:3: FutureWarning: A value is trying to be set on a copy of a DataFrame or Series through chained assignment using an inplace method.\n",
      "The behavior will change in pandas 3.0. This inplace method will never work because the intermediate object on which we are setting values always behaves as a copy.\n",
      "\n",
      "For example, when doing 'df[col].method(value, inplace=True)', try using 'df.method({col: value}, inplace=True)' or df[col] = df[col].method(value) instead, to perform the operation inplace on the original object.\n",
      "\n",
      "\n",
      "  uber_data['purpose'].fillna(\"Unknown\", inplace=True)\n"
     ]
    }
   ],
   "source": [
    "\n",
    "uber_data['purpose'].fillna(\"Unknown\", inplace=True)\n",
    "print(uber_data['purpose'])\n"
   ]
  },
  {
   "cell_type": "code",
   "execution_count": 14,
   "metadata": {},
   "outputs": [],
   "source": [
    "percentile_95 = uber_data['miles'].quantile(0.95)\n",
    "\n",
    "# Filter the data to keep only values up to the 95th percentile\n",
    "uber_data = uber_data[uber_data['miles'] <= percentile_95]"
   ]
  },
  {
   "cell_type": "code",
   "execution_count": 15,
   "metadata": {},
   "outputs": [
    {
     "data": {
      "image/png": "[encoded data removed]",
      "text/plain": [
       "<Figure size 1800x500 with 2 Axes>"
      ]
     },
     "metadata": {},
     "output_type": "display_data"
    }
   ],
   "source": [
    "plt.figure(figsize=(18,5))\n",
    "plt.subplot(1,2,1)\n",
    "sns.kdeplot(x=uber_data.miles,color='black',multiple='stack')\n",
    "plt.subplot(1,2,2)\n",
    "sns.boxplot(x=uber_data.miles,color='red')\n",
    "plt.show()"
   ]
  },
  {
   "cell_type": "markdown",
   "metadata": {},
   "source": [
    "From the kernel density plot, we can observe that the distribution of miles is right-skewed, with a peak around 1-10 miles, indicating that a significant portion of rides are relatively short distances. However, there is also a long tail extending towards higher mileage values, suggesting the presence of some longer rides.  \n",
    "The box plot is a standardized way of displaying the distribution of a dataset based on five summary statistics: the minimum value, the first quartile (25th percentile), the median (50th percentile), the third quartile (75th percentile), and the maximum value. It also highlights potential outliers as individual points beyond the whiskers (lines extending from the box)."
   ]
  },
  {
   "cell_type": "code",
   "execution_count": 16,
   "metadata": {},
   "outputs": [
    {
     "data": {
      "text/html": [
       "<div>\n",
       "<style scoped>\n",
       "    .dataframe tbody tr th:only-of-type {\n",
       "        vertical-align: middle;\n",
       "    }\n",
       "\n",
       "    .dataframe tbody tr th {\n",
       "        vertical-align: top;\n",
       "    }\n",
       "\n",
       "    .dataframe thead th {\n",
       "        text-align: right;\n",
       "    }\n",
       "</style>\n",
       "<table border=\"1\" class=\"dataframe\">\n",
       "  <thead>\n",
       "    <tr style=\"text-align: right;\">\n",
       "      <th></th>\n",
       "      <th>start_date</th>\n",
       "      <th>end_date</th>\n",
       "      <th>miles</th>\n",
       "    </tr>\n",
       "  </thead>\n",
       "  <tbody>\n",
       "    <tr>\n",
       "      <th>count</th>\n",
       "      <td>1097</td>\n",
       "      <td>1097</td>\n",
       "      <td>1097.000000</td>\n",
       "    </tr>\n",
       "    <tr>\n",
       "      <th>mean</th>\n",
       "      <td>2016-07-16 04:11:18.650865920</td>\n",
       "      <td>2016-07-16 04:30:39.270738432</td>\n",
       "      <td>6.922972</td>\n",
       "    </tr>\n",
       "    <tr>\n",
       "      <th>min</th>\n",
       "      <td>2016-01-01 21:11:00</td>\n",
       "      <td>2016-01-01 21:17:00</td>\n",
       "      <td>0.500000</td>\n",
       "    </tr>\n",
       "    <tr>\n",
       "      <th>25%</th>\n",
       "      <td>2016-03-29 23:04:00</td>\n",
       "      <td>2016-03-29 23:21:00</td>\n",
       "      <td>2.800000</td>\n",
       "    </tr>\n",
       "    <tr>\n",
       "      <th>50%</th>\n",
       "      <td>2016-07-19 17:14:00</td>\n",
       "      <td>2016-07-19 17:24:00</td>\n",
       "      <td>5.600000</td>\n",
       "    </tr>\n",
       "    <tr>\n",
       "      <th>75%</th>\n",
       "      <td>2016-10-27 18:51:00</td>\n",
       "      <td>2016-10-27 19:16:00</td>\n",
       "      <td>9.900000</td>\n",
       "    </tr>\n",
       "    <tr>\n",
       "      <th>max</th>\n",
       "      <td>2016-12-31 21:32:00</td>\n",
       "      <td>2016-12-31 21:50:00</td>\n",
       "      <td>28.100000</td>\n",
       "    </tr>\n",
       "    <tr>\n",
       "      <th>std</th>\n",
       "      <td>NaN</td>\n",
       "      <td>NaN</td>\n",
       "      <td>5.231476</td>\n",
       "    </tr>\n",
       "  </tbody>\n",
       "</table>\n",
       "</div>"
      ],
      "text/plain": [
       "                          start_date                       end_date  \\\n",
       "count                           1097                           1097   \n",
       "mean   2016-07-16 04:11:18.650865920  2016-07-16 04:30:39.270738432   \n",
       "min              2016-01-01 21:11:00            2016-01-01 21:17:00   \n",
       "25%              2016-03-29 23:04:00            2016-03-29 23:21:00   \n",
       "50%              2016-07-19 17:14:00            2016-07-19 17:24:00   \n",
       "75%              2016-10-27 18:51:00            2016-10-27 19:16:00   \n",
       "max              2016-12-31 21:32:00            2016-12-31 21:50:00   \n",
       "std                              NaN                            NaN   \n",
       "\n",
       "             miles  \n",
       "count  1097.000000  \n",
       "mean      6.922972  \n",
       "min       0.500000  \n",
       "25%       2.800000  \n",
       "50%       5.600000  \n",
       "75%       9.900000  \n",
       "max      28.100000  \n",
       "std       5.231476  "
      ]
     },
     "execution_count": 16,
     "metadata": {},
     "output_type": "execute_result"
    }
   ],
   "source": [
    "uber_data.describe()"
   ]
  },
  {
   "cell_type": "code",
   "execution_count": 17,
   "metadata": {},
   "outputs": [
    {
     "name": "stdout",
     "output_type": "stream",
     "text": [
      "Factors contributing to an increase in the number of rides:\n",
      "category  start             stop              purpose       \n",
      "Business  Unknown Location  Unknown Location  Unknown           48\n",
      "          Cary              Durham            Meeting           27\n",
      "                            Morrisville       Meal/Entertain    27\n",
      "          Durham            Cary              Meeting           25\n",
      "          Morrisville       Cary              Unknown           20\n",
      "Name: count, dtype: int64\n"
     ]
    }
   ],
   "source": [
    "\n",
    "# Analyze factors contributing to an increase in the number of rides\n",
    "factors = ['category', 'start', 'stop', 'purpose']\n",
    "ride_factors = uber_data[factors].value_counts().head(5)\n",
    "\n",
    "# Print the factors contributing to an increase in the number of rides\n",
    "print(\"Factors contributing to an increase in the number of rides:\")\n",
    "print(ride_factors)"
   ]
  },
  {
   "cell_type": "markdown",
   "metadata": {},
   "source": [
    "The code prints the top 5 combinations of these factors that have the highest number of rides. For example, the combination of 'Business' category, 'Unknown Location' for start and stop locations, and 'Unknown' purpose has the highest count of 48 rides.  \n",
    "However, it does not analyze the impact of weather and special events on the number of rides. This is because the dataset does not contain any information related to weather conditions or special events occurring during the ride periods."
   ]
  },
  {
   "cell_type": "markdown",
   "metadata": {},
   "source": [
    "### Finding out peak months, peak days of the week and peak hours of the day"
   ]
  },
  {
   "cell_type": "code",
   "execution_count": 31,
   "metadata": {},
   "outputs": [
    {
     "data": {
      "image/png": "[encoded data removed]",
      "text/plain": [
       "<Figure size 1000x600 with 1 Axes>"
      ]
     },
     "metadata": {},
     "output_type": "display_data"
    },
    {
     "name": "stdout",
     "output_type": "stream",
     "text": [
      "Peak Months:\n",
      "     month  num_rides\n",
      "11     12        143\n",
      "7       8        126\n",
      "10     11        116\n"
     ]
    }
   ],
   "source": [
    "# Convert start_date to datetime\n",
    "uber_data['start_date'] = pd.to_datetime(uber_data['start_date'])\n",
    "\n",
    "# Group by month and count rides\n",
    "monthly_rides = uber_data.groupby(uber_data['start_date'].dt.month).size().reset_index()\n",
    "monthly_rides.columns = ['month', 'num_rides']\n",
    "\n",
    "# Plot bar chart\n",
    "plt.figure(figsize=(10, 6))\n",
    "plt.bar(monthly_rides['month'], monthly_rides['num_rides'])\n",
    "plt.xlabel('month')\n",
    "plt.ylabel('num_rides')\n",
    "plt.title('Rides by Month')\n",
    "plt.show()\n",
    "\n",
    "# Peak Months\n",
    "peak_months = monthly_rides.sort_values('num_rides', ascending=False)\n",
    "print(\"Peak Months:\\n\", peak_months.head(3))\n"
   ]
  },
  {
   "cell_type": "markdown",
   "metadata": {},
   "source": [
    "The second visualization is a bar chart that displays the total number of rides per month throughout the year. From this chart, we can observe that the peak months for ride demand were December, August and November, likely due to factors such as summer vacations, increased leisure travel, or other seasonal effects. The months with the lowest ride demand appear to be September."
   ]
  },
  {
   "cell_type": "code",
   "execution_count": 19,
   "metadata": {},
   "outputs": [
    {
     "data": {
      "image/png": "[encoded data removed]",
      "text/plain": [
       "<Figure size 1000x600 with 1 Axes>"
      ]
     },
     "metadata": {},
     "output_type": "display_data"
    },
    {
     "name": "stdout",
     "output_type": "stream",
     "text": [
      "\n",
      "Peak Days:\n",
      " start_date\n",
      "Friday     196\n",
      "Tuesday    171\n",
      "Monday     170\n",
      "dtype: int64\n"
     ]
    }
   ],
   "source": [
    "# Group by day of week and count rides \n",
    "weekly_rides = uber_data.groupby(uber_data['start_date'].dt.day_name()).size().reset_index()\n",
    "weekly_rides.columns = ['day', 'num_rides']\n",
    "\n",
    "# Plot bar chart\n",
    "plt.figure(figsize=(10, 6))\n",
    "plt.bar(weekly_rides['day'], weekly_rides['num_rides'])\n",
    "plt.xlabel('Day of Week')\n",
    "plt.ylabel('Number of Rides') \n",
    "plt.title('Rides by Day of Week')\n",
    "plt.show()\n",
    "\n",
    "\n",
    "# Peak Days\n",
    "peak_days = uber_data.groupby(uber_data['start_date'].dt.day_name()).size().sort_values(ascending=False)  \n",
    "print(\"\\nPeak Days:\\n\", peak_days.head(3))"
   ]
  },
  {
   "cell_type": "markdown",
   "metadata": {},
   "source": [
    "The peak on Fridays likely corresponds to increased demand for rides during the weekend, whether for social activities, travel, or other purposes.  \n",
    "Tuesdays and Mondays being among the top days could be related to commuter demand or business travel at the start of the work week."
   ]
  },
  {
   "cell_type": "code",
   "execution_count": 20,
   "metadata": {},
   "outputs": [
    {
     "data": {
      "image/png": "[encoded data removed]",
      "text/plain": [
       "<Figure size 1200x600 with 1 Axes>"
      ]
     },
     "metadata": {},
     "output_type": "display_data"
    },
    {
     "name": "stdout",
     "output_type": "stream",
     "text": [
      "\n",
      "Peak Hours:\n",
      " start_date\n",
      "18    91\n",
      "17    90\n",
      "15    90\n",
      "dtype: int64\n"
     ]
    }
   ],
   "source": [
    "# Group by hour and count rides\n",
    "hourly_rides = uber_data.groupby(uber_data['start_date'].dt.hour).size().reset_index()\n",
    "hourly_rides.columns = ['hour', 'num_rides']\n",
    "\n",
    "# Plot line chart\n",
    "plt.figure(figsize=(12, 6))\n",
    "plt.plot(hourly_rides['hour'], hourly_rides['num_rides'])\n",
    "plt.xlabel('Hour of Day')\n",
    "plt.ylabel('Number of Rides')\n",
    "plt.title('Rides by Hour')\n",
    "plt.show()\n",
    "\n",
    "\n",
    "\n",
    "# Peak Hours \n",
    "peak_hours = uber_data.groupby(uber_data['start_date'].dt.hour).size().sort_values(ascending=False)\n",
    "print(\"\\nPeak Hours:\\n\", peak_hours.head(3))"
   ]
  },
  {
   "cell_type": "markdown",
   "metadata": {},
   "source": [
    "The number of rides starts to increase gradually from the early morning hours, around 6 AM to 8 AM.  \n",
    "Ride demand continues to rise steadily throughout the day, reaching its peak between 3 PM and 6 PM, with the highest number of rides occurring around 4 PM.  \n",
    "After the evening peak, the number of rides declines sharply, with a steep drop-off in demand during the late-night hours."
   ]
  },
  {
   "cell_type": "markdown",
   "metadata": {},
   "source": [
    "### Exploratory Data Analysis of Uber Rides Dataset"
   ]
  },
  {
   "cell_type": "markdown",
   "metadata": {},
   "source": [
    "**Extracts the relevant features ('start_date', 'end_date', 'category', 'start', 'stop') and the target variable ('miles').**"
   ]
  },
  {
   "cell_type": "code",
   "execution_count": 21,
   "metadata": {},
   "outputs": [
    {
     "name": "stdout",
     "output_type": "stream",
     "text": [
      "Selected Features: start_date, category, start\n"
     ]
    }
   ],
   "source": [
    "# Import necessary libraries\n",
    "from sklearn.preprocessing import LabelEncoder\n",
    "from sklearn.linear_model import LinearRegression\n",
    "from sklearn.feature_selection import RFE\n",
    "from sklearn.pipeline import Pipeline\n",
    "from sklearn.preprocessing import PolynomialFeatures\n",
    "import pandas as pd\n",
    "\n",
    "# Prepare data\n",
    "X = uber_data[['start_date', 'end_date', 'category', 'start', 'stop']].copy()\n",
    "y = uber_data['miles']\n",
    "\n",
    "# Convert 'start_date' and 'end_date' to timestamp\n",
    "X['start_date'] = X['start_date'].apply(lambda x: x.timestamp())\n",
    "X['end_date'] = X['end_date'].apply(lambda x: x.timestamp())\n",
    "\n",
    "# Convert categorical data to numerical values\n",
    "labelencoder = LabelEncoder()\n",
    "X['category'] = labelencoder.fit_transform(X['category'])\n",
    "X['start'] = labelencoder.fit_transform(X['start'])\n",
    "X['stop'] = labelencoder.fit_transform(X['stop'])\n",
    "\n",
    "# Linear Regression\n",
    "lin_reg = LinearRegression()\n",
    "lin_reg.fit(X, y)\n",
    "\n",
    "# Polynomial Regression \n",
    "poly_reg = Pipeline([('poly', PolynomialFeatures(degree=2)),\n",
    "                     ('model', LinearRegression())])\n",
    "poly_reg.fit(X, y)\n",
    "\n",
    "# Feature Selection using RFE\n",
    "estimator = LinearRegression()\n",
    "rfe = RFE(estimator, n_features_to_select=3)\n",
    "rfe.fit(X, y)\n",
    "selected_features = X.columns[rfe.support_]\n",
    "print(f\"Selected Features: {', '.join(selected_features)}\")"
   ]
  },
  {
   "cell_type": "markdown",
   "metadata": {},
   "source": [
    "By selecting these three features, the RFE algorithm has identified the most relevant predictors from the available set of features ('start_date', 'end_date', 'category', 'start', 'stop'). These selected features can be used to build a more parsimonious and potentially more accurate regression model for predicting ride distances in the Uber dataset."
   ]
  },
  {
   "cell_type": "markdown",
   "metadata": {},
   "source": [
    "### Classification and Clustering Models for Ride Category Prediction"
   ]
  },
  {
   "cell_type": "code",
   "execution_count": 32,
   "metadata": {},
   "outputs": [
    {
     "name": "stdout",
     "output_type": "stream",
     "text": [
      "Logistic Regression Accuracy: 0.9316317228805834\n",
      "Logistic Regression F1-score: 0.9646059462010382\n",
      "Random Forest Accuracy: 1.0\n",
      "Random Forest F1-score: 1.0\n",
      "K-Means Clustering Accuracy: 0.5560619872379216\n",
      "K-Means Clustering F1-score: 0.6965732087227414\n"
     ]
    }
   ],
   "source": [
    "from sklearn.preprocessing import LabelEncoder\n",
    "from sklearn.linear_model import LogisticRegression\n",
    "from sklearn.ensemble import RandomForestClassifier\n",
    "from sklearn.cluster import KMeans\n",
    "from sklearn.metrics import accuracy_score, f1_score\n",
    "\n",
    "# Prepare data\n",
    "X_class = uber_data[['start_date', 'end_date', 'start', 'stop', 'miles']].copy()\n",
    "y_class = uber_data['category'].map({'Business': 1, 'Personal': 0})\n",
    "\n",
    "# Convert 'start_date' and 'end_date' to timestamp\n",
    "X_class['start_date'] = X_class['start_date'].apply(lambda x: x.timestamp())\n",
    "X_class['end_date'] = X_class['end_date'].apply(lambda x: x.timestamp())\n",
    "\n",
    "# Convert 'start' and 'stop' to numeric values\n",
    "labelencoder = LabelEncoder()\n",
    "X_class['start'] = labelencoder.fit_transform(X_class['start'])\n",
    "X_class['stop'] = labelencoder.fit_transform(X_class['stop'])\n",
    "\n",
    "\n",
    "\n",
    "# Logistic Regression\n",
    "log_reg = LogisticRegression()\n",
    "log_reg.fit(X_class, y_class)\n",
    "# Predict on the training data\n",
    "y_pred = log_reg.predict(X_class)\n",
    "\n",
    "# Calculate accuracy\n",
    "accuracy = accuracy_score(y_class, y_pred)\n",
    "print(\"Logistic Regression Accuracy:\", accuracy)\n",
    "\n",
    "# Calculate F1-score\n",
    "f1 = f1_score(y_class, y_pred)\n",
    "print(\"Logistic Regression F1-score:\", f1)\n",
    "\n",
    "\n",
    "\n",
    "\n",
    "# Random Forest\n",
    "rf_model = RandomForestClassifier(n_estimators=100, random_state=42)\n",
    "rf_model.fit(X_class, y_class)\n",
    "#calculate accuracy\n",
    "y_pred_rf = rf_model.predict(X_class)\n",
    "accuracy_rf = accuracy_score(y_class, y_pred_rf)\n",
    "print(\"Random Forest Accuracy:\", accuracy_rf)\n",
    "print(\"Random Forest F1-score:\", f1_score(y_class, y_pred_rf))\n",
    "\n",
    "\n",
    "\n",
    "# K-Means Clustering\n",
    "kmeans = KMeans(n_clusters=2, random_state=42)\n",
    "kmeans.fit(X_class)\n",
    "kmeans.fit(X_class)\n",
    "# Predict on the training data\n",
    "y_pred_kmeans = kmeans.predict(X_class)\n",
    "# Calculate accuracy\n",
    "accuracy_kmeans = accuracy_score(y_class, y_pred_kmeans)\n",
    "print(\"K-Means Clustering Accuracy:\", accuracy_kmeans)\n",
    "print(\"K-Means Clustering F1-score:\", f1_score(y_class, y_pred_kmeans))\n"
   ]
  },
  {
   "cell_type": "markdown",
   "metadata": {},
   "source": [
    "**Logistic Regression:**  \n",
    "Accuracy: 0.9316 (93.16%)  \n",
    "F1-score: 0.9646  \n",
    "The logistic regression model achieves a reasonably high accuracy of 93.16% and an F1-score of 0.9646 in predicting the ride category. The F1-score, which is the harmonic mean of precision and recall, indicates a good balance between these two metrics.  \n",
    "\n",
    "**Random Forest Classifier:**  \n",
    "Accuracy: 1.0 (100%)  \n",
    "F1-score: 1.0  \n",
    "The random forest classifier performs exceptionally well, achieving perfect accuracy and an F1-score of 1.0. This suggests that the model can accurately classify the ride categories without any misclassifications on the training data.  \n",
    "\n",
    "**K-Means Clustering:**  \n",
    "Accuracy: 0.5561 (55.61%)  \n",
    "F1-score: 0.6965  \n",
    "The K-Means clustering model, which is an unsupervised learning technique, performs relatively poorly compared to the supervised classification models. Its accuracy of 55.61% and an F1-score of 0.6965 indicate that it may not be the most suitable approach for this classification task."
   ]
  },
  {
   "cell_type": "code",
   "execution_count": 33,
   "metadata": {},
   "outputs": [
    {
     "name": "stdout",
     "output_type": "stream",
     "text": [
      "Best Parameters (KNN): {'n_neighbors': 9, 'weights': 'uniform'}\n",
      "Best Score (KNN): 0.61\n"
     ]
    }
   ],
   "source": [
    "from sklearn.neighbors import KNeighborsClassifier\n",
    "from sklearn.model_selection import GridSearchCV\n",
    "\n",
    "# Define the parameter grid\n",
    "param_grid = {'n_neighbors': [3, 5, 7, 9],\n",
    "              'weights': ['uniform', 'distance']}\n",
    "\n",
    "# Create the GridSearchCV object\n",
    "grid_search = GridSearchCV(KNeighborsClassifier(), param_grid, cv=5, scoring='accuracy')\n",
    "\n",
    "# Fit the GridSearchCV object to the data\n",
    "grid_search.fit(X_class, y_class)\n",
    "\n",
    "# Print the best parameters and score\n",
    "print(f\"Best Parameters (KNN): {grid_search.best_params_}\")\n",
    "print(f\"Best Score (KNN): {grid_search.best_score_:.2f}\")"
   ]
  },
  {
   "cell_type": "markdown",
   "metadata": {},
   "source": [
    "The output shows that the best hyperparameters for the KNN classifier on this dataset are {'n_neighbors': 9, 'weights': 'uniform'}, with a best accuracy score of 0.61 (61%).  \n",
    "The accuracy score of 0.61 may or may not be considered satisfactory, depending on the requirements of the problem and the performance of other models. Further analysis, such as evaluating the model's performance on a separate test set or exploring other evaluation metrics (e.g., precision, recall, F1-score), may be necessary to assess the model's suitability."
   ]
  }
 ],
 "metadata": {
  "kernelspec": {
   "display_name": "Python 3",
   "language": "python",
   "name": "python3"
  },
  "language_info": {
   "codemirror_mode": {
    "name": "ipython",
    "version": 3
   },
   "file_extension": ".py",
   "mimetype": "text/x-python",
   "name": "python",
   "nbconvert_exporter": "python",
   "pygments_lexer": "ipython3",
   "version": "3.11.9"
  }
 },
 "nbformat": 4,
 "nbformat_minor": 2
}
