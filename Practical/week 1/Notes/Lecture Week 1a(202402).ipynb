{
 "cells": [
  {
   "cell_type": "markdown",
   "metadata": {
    "slideshow": {
     "slide_type": "slide"
    }
   },
   "source": [
    "# COMP2200/COMP6200 - Data Science\n",
    "\n",
    "## Dr. Yang Zhang  (Unit Lecturer)\n",
    "Yang.Zhang@mq.edu.au\n",
    "\n",
    "## Dr. Yipeng Zhou (Unit Convener)\n",
    "yipeng.zhou@mq.edu.au\n",
    "\n",
    "This teaching material was prepared by Dr. Guanfeng Liu (with our gratitude), and subsequently modified by Dr. Yang Zhang.\n"
   ]
  },
  {
   "attachments": {},
   "cell_type": "markdown",
   "metadata": {},
   "source": [
    "#### Data Science is about handling big and complex data.\n",
    "In Data Science, there is a need to work with unstructured data such as text and images.\n",
    "Data Science tasks can include face recognition, video analysis, and fingerprint identification.\n",
    "This involves dealing with unstructured, complex, and graph data, as well as text and video content.\n",
    "\n"
   ]
  },
  {
   "attachments": {},
   "cell_type": "markdown",
   "metadata": {},
   "source": [
    "Data Science and Statistics\n",
    "\n",
    "Computation in Data Science\n",
    "\n",
    "Beyond Traditional Statistics\n",
    "\n",
    "Understanding Data Features\n",
    "\n",
    "Features can be considered as data attributes\n",
    "\n",
    "Complexity with Image Data\n",
    "\n",
    "Need for Advanced Computational Models\n",
    "\n",
    "\n"
   ]
  },
  {
   "attachments": {},
   "cell_type": "markdown",
   "metadata": {},
   "source": [
    "Data Science vs. Data Analytics:\n",
    "\n",
    "The Process of Discovery in Data Science\n",
    "\n",
    "The Challenge of Complexity\n",
    "\n",
    "Role of Deep Learning\n",
    " \n",
    "Ongoing Research and computational models\n",
    "\n",
    "Studying Artificial Neural Networks (ANNs)\n"
   ]
  },
  {
   "cell_type": "markdown",
   "metadata": {
    "slideshow": {
     "slide_type": "slide"
    }
   },
   "source": [
    "## Data Reasoning in a Digital World\n",
    "\n",
    "Graphs can be a powerful way to share data with the public. But not all graphs are created equal. Choosing the wrong graph type, mislabeling axes, or using an inappropriate or inconsistent scale can affect the way data appears—which can lead readers to misinterpret the data. \n",
    "\n",
    "\n",
    "[Source](https://math.scholastic.com/issues/2017-18/092517/fake-news-fake-data.html#1120L)"
   ]
  },
  {
   "cell_type": "markdown",
   "metadata": {
    "slideshow": {
     "slide_type": "slide"
    }
   },
   "source": [
    "## Misleading Graphs\n",
    "\n",
    "![Student Drink Preference](https://math.scholastic.com/content/dam/classroom-magazines/math/issues/2017-18/092517/fake-news-fake-data/MA-092517-FAKENEWS-Medium3.png)"
   ]
  },
  {
   "cell_type": "markdown",
   "metadata": {
    "slideshow": {
     "slide_type": "slide"
    }
   },
   "source": [
    "## Misleading Graphs\n",
    "\n",
    "![Student's test scores](https://math.scholastic.com/content/dam/classroom-magazines/math/issues/2017-18/092517/fake-news-fake-data/MA-092517-FAKENEWS-Medium5.png)"
   ]
  },
  {
   "cell_type": "markdown",
   "metadata": {
    "slideshow": {
     "slide_type": "slide"
    }
   },
   "source": [
    "## Misleading Graphs\n",
    "\n",
    "<div>\n",
    "<img src=https://pbs.twimg.com/media/ENnNkr4U0AM3keT?format=jpg&name=small height=\"300\" width=\"300\"/>\n",
    "</div>"
   ]
  },
  {
   "cell_type": "markdown",
   "metadata": {
    "slideshow": {
     "slide_type": "slide"
    }
   },
   "source": [
    "## How to spot misleading graphs\n",
    "\n",
    "[5 Ways Writers Use Misleading Graphs To Manipulate You](https://venngage.com/blog/misleading-graphs/)"
   ]
  },
  {
   "cell_type": "markdown",
   "metadata": {
    "slideshow": {
     "slide_type": "slide"
    }
   },
   "source": [
    "## How Fermi Estimation can help you identify Bullshit in this information age.\n",
    "\n",
    "* Physicist Enrico Fermi Was a Master of Guesstimation\n",
    "* Order of magnitude estimates of the expected answer\n",
    "* Useful skill when evaluating your answers to problems\n",
    "* Needs some knowledge of quantities in the world:\n",
    "    * Sizes of things\n",
    "    * Population of countries\n",
    "    * Frequency of events\n",
    "* Understand orders of magnitude - is it closer to 10, 100, 1000?"
   ]
  },
  {
   "cell_type": "markdown",
   "metadata": {
    "slideshow": {
     "slide_type": "slide"
    }
   },
   "source": [
    "## Can you estimate number of piano tuners in Sydney?\n"
   ]
  },
  {
   "cell_type": "markdown",
   "metadata": {
    "slideshow": {
     "slide_type": "slide"
    }
   },
   "source": [
    "## Assumptions\n",
    "\n",
    "In any Fermi problem, we first lay out what it is we need to know, then list some assumptions:\n",
    "\n",
    "* How often pianos are tuned?\n",
    "* How long it takes to tune a piano?\n",
    "* How many hours a year the average piano tuner works?\n",
    "* The number of pianos in Sydney?"
   ]
  },
  {
   "cell_type": "markdown",
   "metadata": {
    "slideshow": {
     "slide_type": "slide"
    }
   },
   "source": [
    "## Assumptions\n",
    "\n",
    "* **Assumption 1**:  The average piano owner tunes his piano once a year. (Just a guess since the average piano owner isn’t tuning only one time every ten years, nor ten times a year. One time a year seems like a reasonable guesstimate.)\n",
    "\n",
    "* **Assumption 2**: It takes 2 hours to tune a piano. A guess. Maybe it’s only 1 hour, but 2 is within an order of magnitude, so it’s good enough.\n",
    "\n",
    "* **Assumption 3**: Let’s assume 40 hours a week. 40 hours a week x 50 weeks approximately 2,000-hour work year.\n",
    "\n",
    "* **Assumption 4**:  2 pianos for every 100 people (Again a guess to include schools and institutions with pianos)\n",
    "\n",
    "* **Assumption 5**: Sydney population approximately 5 million\n",
    "\n",
    "[Source:WIRED](https://www.wired.com/2014/08/how-to-solve-crazy-open-ended-google-interview-questions/)"
   ]
  },
  {
   "cell_type": "markdown",
   "metadata": {
    "slideshow": {
     "slide_type": "slide"
    }
   },
   "source": [
    "## Let Estimate\n",
    "\n",
    "1. There are 5 million people in Sydney.\n",
    "2. There are 2 pianos for every 100 people.\n",
    "3. There are 100,000 pianos in Sydney (10^7 / 10^2 = 10^5)\n",
    "4. Pianos are tuned once a year.\n",
    "5. It takes 2 hours to tune a piano.\n",
    "6. Piano tuners work 2,000 hours a year.\n",
    "7. In one year, a piano tuner can tune 1,000 pianos (2,000 hours per year ÷ 2 hours per piano).\n",
    "8. It would take 100 tuners to tune 100,000 pianos (100,000 pianos ÷ 1,000 pianos tuned by each piano tuner).\n",
    "\n",
    "So approximately **100 piano tuners in Sydney**\n"
   ]
  },
  {
   "cell_type": "markdown",
   "metadata": {
    "slideshow": {
     "slide_type": "slide"
    }
   },
   "source": [
    "## How much toilet paper do we use every year in Australia?\n",
    "<div>\n",
    "<img src=https://live-production.wcms.abc-cdn.net.au/a4899c9a595187dd1cc8894ce0d0d8f3?impolicy=wcms_crop_resize&cropH=864&cropW=1536&xPos=0&yPos=4&width=862&height=485 height=\"400\" width=\"400\"/>\n",
    "</div>\n"
   ]
  },
  {
   "cell_type": "markdown",
   "metadata": {
    "slideshow": {
     "slide_type": "slide"
    }
   },
   "source": [
    "## Assumptions\n",
    "\n",
    "* Average person uses 1 roll per week\n",
    "* 1 sheet is approximately 10 cm long\n",
    "* Australia's population approximately 25 million\n",
    "* Earth's circumference approximately 40,000 Kilometre.\n",
    "\n",
    "[Source: Fermi Problems: from toilet paper to housing the world](https://www.youtube.com/watch?v=_PEQCX0la2Y)"
   ]
  },
  {
   "cell_type": "markdown",
   "metadata": {
    "slideshow": {
     "slide_type": "slide"
    }
   },
   "source": [
    "## Let's calculate\n",
    "\n",
    "1. Average person consumes 50 rolls per year (1 roll per week x 50 weeks per year)\n",
    "2. Length of 1 roll = 30m (300 sheets x 10 cm per sheet)\n",
    "3. Average person consumption per year = 50 x 30m = 1.5 Kilometre\n",
    "4. Total consumption in Australia per year = 25 million x 1.5 Kilometre = approximately 40 million Kilometre\n",
    "5. 40 million Kilometre / 40, 000 Kilometre = 1000\n",
    "\n",
    "**So we can wrap our Earch 1,000 times with 1 year consumption of toilet paper in Australia**"
   ]
  },
  {
   "cell_type": "markdown",
   "metadata": {
    "slideshow": {
     "slide_type": "slide"
    }
   },
   "source": [
    "## What is Data Science?"
   ]
  },
  {
   "cell_type": "markdown",
   "metadata": {
    "slideshow": {
     "slide_type": "slide"
    }
   },
   "source": [
    "[What is Data Science (NYU)](http://datascience.nyu.edu/what-is-data-science/)\n",
    "\n",
    "> At its core, data science involves using automated methods to analyze massive amounts of data and to extract knowledge from them. With such automated methods turning up everywhere from genomics to high-energy physics, data science is helping to create new branches of science, and influencing areas of social science and the humanities. \n",
    "\n"
   ]
  },
  {
   "cell_type": "markdown",
   "metadata": {
    "slideshow": {
     "slide_type": "slide"
    }
   },
   "source": [
    "[What is Data Science (Investopedia)](http://www.investopedia.com/terms/d/data-science.asp)\n",
    "\n",
    ">A field of Big Data which seeks to provide meaningful information from large amounts of complex data. \n",
    ">Data Science combines different fields of work in statistics and computation in order to \n",
    ">interpret data for the purpose of decision making\n"
   ]
  },
  {
   "cell_type": "markdown",
   "metadata": {
    "slideshow": {
     "slide_type": "slide"
    }
   },
   "source": [
    "[What is Data Science (Berkeley)](https://datascience.berkeley.edu/about/what-is-data-science/)\n",
    "\n",
    "> There is significant and growing demand for data-savvy professionals in businesses, public agencies, and nonprofits. The supply of professionals who can work effectively with data at scale is limited, and is reflected by rapidly rising salaries for data engineers, data scientists, statisticians, and data analysts.\n",
    "\n"
   ]
  },
  {
   "cell_type": "markdown",
   "metadata": {
    "slideshow": {
     "slide_type": "slide"
    }
   },
   "source": [
    "## About COMP2200/COMP6200\n",
    "\n",
    "- [COMP2200/6200 Unit Guide](https://unitguides.mq.edu.au/unit_offerings/156299/unit_guide)\n",
    "\n",
    "(Both COMP2200 and COMP6200 offerings are the same)"
   ]
  },
  {
   "cell_type": "markdown",
   "metadata": {
    "slideshow": {
     "slide_type": "slide"
    }
   },
   "source": [
    "## Defining Data Science - Science\n",
    "\n",
    "- How do we characterise Science and Scientific methods? \n",
    "- What is the alternative to or opposite of Science? \n",
    "- Can we trust scientific results? Are they more trustworthy than the alternatives?\n",
    "- What are the most important characteristics of Science? \n",
    "- How does this all relate to **Data Science**?"
   ]
  },
  {
   "cell_type": "markdown",
   "metadata": {
    "slideshow": {
     "slide_type": "slide"
    }
   },
   "source": [
    "\n",
    "**Logical Positivism** describes the mainstay of the scientific method.  **Positivism** means that conclusions are based on observations and evidence.  **Logical** means that deductions are made according to the rules of logic.  Together these describe a methodology of research that draws conclusions based on logical deductions from the foundations of observation and evidence. \n"
   ]
  },
  {
   "cell_type": "markdown",
   "metadata": {
    "slideshow": {
     "slide_type": "slide"
    }
   },
   "source": [
    "Here's a Science Checklist from [Berkeley](http://undsci.berkeley.edu/article/0_0_0/whatisscience_03) - a classroom activity to help kids understand what science is:\n",
    "\n",
    "![Science Checklist](http://undsci.berkeley.edu/wp-content/uploads/2022/05/sciencechecklist.gif)\n",
    "\n",
    "Another list from [UCAR](https://scied.ucar.edu/activity/science) describes characteristics of Scientific endevour: **Natural**, **Observable**, **Testable**, **Tentative**, **Uncertain**, and **Social**.\n"
   ]
  },
  {
   "cell_type": "markdown",
   "metadata": {
    "slideshow": {
     "slide_type": "slide"
    }
   },
   "source": [
    "## Defining Data Science - Data\n",
    "\n",
    "Data Science clearly involves Data. What will we need to learn about to become a Data Scientist? \n",
    "\n",
    "- Data is generated from a range of sources: instruments, surveys, human behaviour, models, simulations\n",
    "- The size of data varies: hundreds, thousands, millions of observations (when is it Big Data?)\n",
    "- How data is made available: files in various formats, streams of data over the network, databases, the web\n",
    "- What is data: not just simple observations and measurements, text as data, metadata as data"
   ]
  },
  {
   "cell_type": "markdown",
   "metadata": {
    "slideshow": {
     "slide_type": "skip"
    }
   },
   "source": [
    "You will be given or find data that we want to use in an analysis.  You will learn techniques to read\n",
    "this data into Python data structures.  How to read different file formats; which data structures are most appropriate. "
   ]
  },
  {
   "cell_type": "markdown",
   "metadata": {
    "slideshow": {
     "slide_type": "slide"
    }
   },
   "source": [
    "\n",
    "***IBM estimates that 90 percent of the data in the world today has been created in the past two years.*** [source Berkeley](https://datascience.berkeley.edu/about/what-is-data-science/)\n",
    "\n",
    "You will learn some data wrangling skills:\n",
    "\n",
    "- Reading different kinds of file format\n",
    "- Cleaning data: \n",
    "    - filling in missing values,\n",
    "    - making values consistent (Australia, Aus, Oz) \n",
    "    - merging data sources\n",
    "    - selecting rows and columns\n",
    "    - generating aggregate data \n"
   ]
  },
  {
   "cell_type": "markdown",
   "metadata": {
    "slideshow": {
     "slide_type": "slide"
    }
   },
   "source": [
    "## Defining Data Science - Analysis Methods\n",
    "\n",
    "Once we have our data, one goal of DS is to perform some kind of analysis to try to support a hypothesis or tell a story. Analysis methods include:\n",
    "\n",
    "- summary statistics\n",
    "- data smoothing, dimensionality reduction, feature selection\n",
    "- visualisation\n",
    "- statistical hypothesis testing\n",
    "\n",
    "This will draw on you basic statistical knowledge (STAT1170) and extend it in a few areas.  \n"
   ]
  },
  {
   "cell_type": "markdown",
   "metadata": {
    "slideshow": {
     "slide_type": "skip"
    }
   },
   "source": [
    "\n",
    "Analysis methods are seeking to find meaning in the data we look at. We need to be able to present large quantities of data in a succinct way so that we can **see the meaning** in the data; observe trends; look for patterns. \n",
    "\n",
    "Statistical tests allow us to be rigourous in whether we accept or reject an hypothesis: did it just happen by chance or is it a real effect we are observing?"
   ]
  },
  {
   "cell_type": "markdown",
   "metadata": {
    "slideshow": {
     "slide_type": "slide"
    }
   },
   "source": [
    "## Technology\n",
    "\n",
    "You will be learning to use [Python](https://python.org/) for this analysis with the associated statistical and graphical tools.  It is also common to see the [R language](https://r-project.org/) used for Data Science - you'll see that if you do the Statistics units in the DS major.  \n",
    "\n",
    "We'll use Git and [Github](https://github.com/MQCOMP2200-S2-2020) to host and share our work and track changes.\n",
    "\n",
    "We're using [Jupyter Notebooks](https://jupyter-notebook.readthedocs.io/en/stable/) to carry out analysis and generate documented presentations of results.   \n"
   ]
  },
  {
   "cell_type": "markdown",
   "metadata": {
    "slideshow": {
     "slide_type": "slide"
    }
   },
   "source": [
    "## Story Telling\n",
    "\n",
    "<img style='float: left' src='https://pudding.cool/2017/05/births/img/SuffolkNYPlot.png'>\n",
    "\n",
    "[The Timing of Baby Making](https://pudding.cool/2017/05/births/) from The Pudding is a nice example of a story told with supporting data.  The Pudding is a great example of a website that publishes regular data supported stories and showcases DS methods.\n",
    "\n",
    "[The Guardian Data Blog](https://www.theguardian.com/data) also publishes data based stories. \n",
    "\n",
    "[Charting the COVID-19 Spread in Australia](https://www.abc.net.au/news/2020-03-17/coronavirus-cases-data-reveals-how-covid-19-spreads-in-australia/12060704?nw=0) did analyis of COVID-19 cases per state in Australia."
   ]
  },
  {
   "cell_type": "markdown",
   "metadata": {
    "slideshow": {
     "slide_type": "slide"
    }
   },
   "source": [
    "## Defining Data Science - Modelling and Prediction\n",
    "\n",
    "A big part of Data Science is about going beyond the observations that you have in your data to be able to predict future outcomes or make judgements about unseen data based on past observations. \n",
    "\n",
    "**Modelling** is the use of past data to build a computational model of a system.   That model can then be used in different ways: to classify unseen data (is it spam) attach labels to data (face recognition, image labelling) or predict future trends (where will the stock market go next).\n"
   ]
  },
  {
   "cell_type": "markdown",
   "metadata": {
    "slideshow": {
     "slide_type": "slide"
    }
   },
   "source": [
    "## Modelling Techniques \n",
    "We use many techniques for building models, we'll learn a few in this unit: \n",
    "\n",
    "- **Linear Regression** works for simple systems where the relationship between observeable variables is linear, it can be extended to deal with more complex relationships\n",
    "- **Logistic Regression** allows us to predict categorical outcomes (spam or ham, good investment or bad)\n",
    "- **Clustering** algorithms find patterns in data and show us groupings that might not be obvious \n",
    "- **Classification** algorithms allow us to label unseen data based on past observations\n"
   ]
  },
  {
   "cell_type": "markdown",
   "metadata": {
    "slideshow": {
     "slide_type": "slide"
    }
   },
   "source": [
    "## Machine Learning\n",
    "\n",
    "All of these are really examples of **Machine Learning** to some degree.  They rely on seeing past examples of data that has known outcomes and enable us to build models that can predict outcomes for new observations.   The difference between the models that we will see and full on Deep Learning models is one of complexity.  \n",
    "\n",
    "The harder the problem you are trying to build a model of (eg. speech recognition, language understanding) the more input parameters you generally have and the more **degrees of freedom** in your model are needed to account for the complex system you are learning.   Many degrees of freedom requires more data to train and longer, more complex training process.  \n"
   ]
  },
  {
   "cell_type": "markdown",
   "metadata": {
    "slideshow": {
     "slide_type": "slide"
    }
   },
   "source": [
    "## Defining Data Science - Interpretation and Reproducibility \n",
    "\n",
    "<img src='http://i0.kym-cdn.com/photos/images/original/000/933/851/c8e.jpg' style='float:left; margin:10px'>\n",
    "\n",
    "Using DS methods we can take large amounts of data and find patterns, display summaries, create visualisations, draw conclusions.   So what does it mean to be responsible in this context?\n"
   ]
  },
  {
   "cell_type": "markdown",
   "metadata": {
    "slideshow": {
     "slide_type": "slide"
    }
   },
   "source": [
    "## Defining Data Science - Interpretation and Reproducibility \n",
    "\n",
    "The phrase ['Lies, Damn Lies and Statistics'](https://en.wikipedia.org/wiki/Lies,_damned_lies,_and_statistics) is a comment on the way that statistics are used to mislead people.  Show a graph or a table of numbers that appears to back up your argument and you sound more convincing.  For an in-depth treatment of this in the context of DS see: [Calling Bullshit In the Age of Big Data](https://callingbullshit.org/) (we may draw on some of their presentations and activities this semester).  \n",
    "\n",
    "So how do we protect against this kind of deception? \n"
   ]
  },
  {
   "cell_type": "markdown",
   "metadata": {
    "slideshow": {
     "slide_type": "slide"
    }
   },
   "source": [
    "Go back to our Science discussion - conclusions should be based on **observations of evidence**. So if I present a graph, I should also present the sources of data that I used to generate the graph.  \n",
    "\n",
    "Even with the same data, I can't fully understand your results without knowing what methods you used to analyse the data.  For example, did you use all of the data or did you exclude some observations? Did you smooth, scale or otherwise manipulate the data? What classification, clustering or modelling methods did you use? \n"
   ]
  },
  {
   "cell_type": "markdown",
   "metadata": {
    "slideshow": {
     "slide_type": "slide"
    }
   },
   "source": [
    "## Reproducibility\n",
    "\n",
    "**Reproducibility** is an increasingly important goal in Science and Data Science is playing a big role in helping to achieve it.  Scientists are concerned that many published studies could not be repeated by other groups because of this (see [Replication Crisis on Wikipedia](https://en.wikipedia.org/wiki/Replication_crisis)).  Part of the response is an increased awareness of the need to make research data openly available and to publish the software and methods that was used to generate the results. See [Open Science Foundation](https://osf.io), [Zenodo](https://zenodo.org), [Figshare](https://figshare.com) as examples of services that have been established to help scientists share research data and software.\n"
   ]
  },
  {
   "cell_type": "markdown",
   "metadata": {
    "slideshow": {
     "slide_type": "slide"
    }
   },
   "source": [
    "## Jupyter Notebooks\n",
    "\n",
    "The [Jupyter](https://jupyter.org) is in part a response to this need to provide more easily replicated analysis.  You'll see how it enables us to create a single document that contains both the commentary on the data and analysis and the code that generates the results.  Sharing a notebook as part of the product of your research can enhance the reproducibility of your work, which makes it better science. \n"
   ]
  },
  {
   "cell_type": "markdown",
   "metadata": {
    "slideshow": {
     "slide_type": "slide"
    }
   },
   "source": [
    "## Github\n",
    "\n",
    "The motivation for using Github is twofold.\n",
    "\n",
    "- Using Git to track changes provides another trace of evidence for what we did\n",
    "- Might help someone understand the train of thought in the experiment\n",
    "- Using Github to **publish** the repository makes it available to all\n",
    "- Others can clone the repository and run **your code**"
   ]
  },
  {
   "cell_type": "markdown",
   "metadata": {
    "slideshow": {
     "slide_type": "slide"
    }
   },
   "source": [
    "## Acknowledgements\n",
    "\n",
    "- [Fermi Problems: from toilet paper to housing the world](https://www.youtube.com/watch?v=_PEQCX0la2Y) \n",
    "- [Calling Bullshit in the Age of Big Data](https://www.youtube.com/watch?v=A2OtU5vlR0k&list=PLPnZfvKID1Sje5jWxt-4CSZD7bUI4gSPS)\n",
    "- [5 Ways Writers Use Misleading Graphs To Manipulate You](https://venngage.com/blog/misleading-graphs/)"
   ]
  }
 ],
 "metadata": {
  "celltoolbar": "Slideshow",
  "kernelspec": {
   "display_name": "Python 3 (ipykernel)",
   "language": "python",
   "name": "python3"
  },
  "language_info": {
   "codemirror_mode": {
    "name": "ipython",
    "version": 3
   },
   "file_extension": ".py",
   "mimetype": "text/x-python",
   "name": "python",
   "nbconvert_exporter": "python",
   "pygments_lexer": "ipython3",
   "version": "3.11.4"
  }
 },
 "nbformat": 4,
 "nbformat_minor": 2
}
