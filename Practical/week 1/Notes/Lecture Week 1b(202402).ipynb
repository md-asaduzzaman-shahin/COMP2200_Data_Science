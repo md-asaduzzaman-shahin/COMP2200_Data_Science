{
 "cells": [
  {
   "cell_type": "markdown",
   "metadata": {
    "slideshow": {
     "slide_type": "slide"
    }
   },
   "source": [
    "# COMP2200/COMP6200 Data Science\n",
    "\n",
    "## Dr. Yang Zhang (Unit Lecturer)\n",
    "Yang.Zhang@mq.edu.au\n",
    "\n",
    "## Dr. Yipeng Zhou (Unit Convener)\n",
    "yipeng.zhou@mq.edu.au\n",
    "\n",
    "This teaching material was prepared by Dr. Guanfeng Liu (with our gratitude), and subsequently modified by Dr. Yang Zhang."
   ]
  },
  {
   "cell_type": "markdown",
   "metadata": {
    "slideshow": {
     "slide_type": "slide"
    }
   },
   "source": [
    "## Data Science - Multidisciplinary\n",
    "\n",
    "Theories and techniques from many fields and disciplines are used to investigate and analyze a large amount of data to help decision makers in many industries such as science, engineering, economics, politics, finance, psychology, and education."
   ]
  },
  {
   "cell_type": "markdown",
   "metadata": {
    "slideshow": {
     "slide_type": "slide"
    }
   },
   "source": [
    "## Data Science - Disciplines\n",
    "\n",
    "- **Computer Science**\n",
    "   - Pattern recognition, visualization, data warehousing, High performance computing, Databases, AI\n",
    "\n",
    "- **Mathematics**\n",
    "    - Mathematical Modeling\n",
    "- **Statistics**\n",
    "    - Statistical and Stochastic modeling, Probability.\n"
   ]
  },
  {
   "cell_type": "markdown",
   "metadata": {
    "slideshow": {
     "slide_type": "slide"
    }
   },
   "source": [
    "## Various skills of a Data Scientist\n",
    "\n",
    "![Various skills Data Scientist](https://miro.medium.com/max/1816/1*HOtPqHH_mMBY1TJMQJgf0Q.png)"
   ]
  },
  {
   "cell_type": "markdown",
   "metadata": {
    "scrolled": true,
    "slideshow": {
     "slide_type": "slide"
    }
   },
   "source": [
    "\n",
    "![](https://i1.wp.com/lh6.ggpht.com/-hwAhMDKRr3Q/T9hXYMDVLJI/AAAAAAAAGhY/SJ2kbDyJaZo/image_thumb%25255B1%25255D.png)"
   ]
  },
  {
   "cell_type": "markdown",
   "metadata": {
    "slideshow": {
     "slide_type": "slide"
    }
   },
   "source": [
    "## What is your reason to choose this Data Science Unit?"
   ]
  },
  {
   "cell_type": "markdown",
   "metadata": {
    "slideshow": {
     "slide_type": "fragment"
    }
   },
   "source": [
    "### How long will this Data Science Heat last?"
   ]
  },
  {
   "cell_type": "markdown",
   "metadata": {
    "slideshow": {
     "slide_type": "slide"
    }
   },
   "source": [
    "## Data Science - Hype Cycle\n",
    "\n",
    "\n",
    "When **new technologies** (e.g., Data Science) make bold promises, how do you discern the hype from what’s commercially viable? And when will such claims pay off, if at all? \n",
    "\n"
   ]
  },
  {
   "cell_type": "markdown",
   "metadata": {
    "slideshow": {
     "slide_type": "fragment"
    }
   },
   "source": [
    "> [Gartner Hype Cycle](https://www.gartner.com/en/research/methodologies/gartner-hype-cycle) provide a graphic representation of the maturity and adoption of technologies and applications, and how they are potentially relevant to solving real business problems and exploiting new opportunities. \n",
    "\n",
    "> Gartner Hype Cycle methodology gives you a view of how a technology or application will evolve over time, providing a sound source of insight to manage its deployment within the context of your specific business goals."
   ]
  },
  {
   "cell_type": "markdown",
   "metadata": {
    "slideshow": {
     "slide_type": "slide"
    }
   },
   "source": [
    "## Data Science - Five Key Phases\n",
    "\n",
    "Each Hype Cycle drills down into the five key phases of a technology’s life cycle.\n",
    "\n",
    " "
   ]
  },
  {
   "cell_type": "markdown",
   "metadata": {
    "slideshow": {
     "slide_type": "fragment"
    }
   },
   "source": [
    "<img src='https://emtemp.gcom.cloud/ngw/globalassets/en/research/images/illustrations/researchmethodology-illustration-hype-cycle.jpg' height=\"40%\" width=\"40%\" style='float:left; margin:10px'>\n",
    "\n",
    " - Innovation Trigger\n",
    " - Peak of Inflated Expectations\n",
    " - Trough of Disillusionment\n",
    " - Slope of Enlightenment\n",
    " - Plateau of Productivity"
   ]
  },
  {
   "cell_type": "markdown",
   "metadata": {
    "slideshow": {
     "slide_type": "slide"
    }
   },
   "source": [
    "## 1 Innovation Trigger\n",
    "\n",
    "> A potential technology breakthrough kicks things off. **Early proof-of-concept stories** and media interest trigger significant publicity. Often no usable products exist and commercial viability is unproven."
   ]
  },
  {
   "cell_type": "markdown",
   "metadata": {
    "slideshow": {
     "slide_type": "slide"
    }
   },
   "source": [
    "## 2 Peak of Inflated Expectations\n",
    "\n",
    "> Early publicity produces **a number of success stories** — often accompanied by scores of failures. Some companies take action; many do not."
   ]
  },
  {
   "cell_type": "markdown",
   "metadata": {
    "slideshow": {
     "slide_type": "slide"
    }
   },
   "source": [
    "## 3 Trough of Disillusionment\n",
    "\n",
    "> Interest wanes as experiments and implementations fail to deliver. Producers of the technology **shake out or fail**. Investments continue only if the surviving providers improve their products to the satisfaction of early adopters."
   ]
  },
  {
   "cell_type": "markdown",
   "metadata": {
    "slideshow": {
     "slide_type": "slide"
    }
   },
   "source": [
    "## 4 Slope of Enlightenment\n",
    "\n",
    "> More instances of how the technology can benefit the enterprise start to crystallize and become more widely understood. **Second- and third-generation products appear** from technology providers. More enterprises fund pilots; conservative companies remain cautious."
   ]
  },
  {
   "cell_type": "markdown",
   "metadata": {
    "slideshow": {
     "slide_type": "slide"
    }
   },
   "source": [
    "## 5 Plateau of Productivity\n",
    "\n",
    "> Mainstream adoption starts to take off. Criteria for assessing provider viability are more clearly defined. The technology's broad market applicability and relevance are clearly **paying off**."
   ]
  },
  {
   "cell_type": "markdown",
   "metadata": {
    "slideshow": {
     "slide_type": "slide"
    }
   },
   "source": [
    "## Data Science - Gartner Hype Cycle\n",
    "\n",
    "![The 2021 Gartner Hype Cycle](https://emtemp.gcom.cloud/ngw/globalassets/en/articles/images/the-4-trends-that-prevail-on-the-gartner-hype-cycle-for-ai--2021-0.png)"
   ]
  },
  {
   "cell_type": "markdown",
   "metadata": {
    "slideshow": {
     "slide_type": "slide"
    }
   },
   "source": [
    "## Why Data Science Hype Cycles?"
   ]
  },
  {
   "cell_type": "markdown",
   "metadata": {
    "slideshow": {
     "slide_type": "fragment"
    }
   },
   "source": [
    "- Separate hype from the real drivers of a technology's commercial promise\n",
    "- Reduce the risk of your technology investment decisions \n",
    "- Compare your understanding of a technology’s business value with the objectivity of experienced IT analysts"
   ]
  },
  {
   "cell_type": "markdown",
   "metadata": {
    "slideshow": {
     "slide_type": "slide"
    }
   },
   "source": [
    "## Data Scientists\n",
    "\n",
    "[In Australia, Data Scientists Are a Hot Commodity](https://www.hiringlab.org/au/blog/2019/04/30/data-scientists-au/)\n",
    "\n",
    "\n",
    "<img src='https://www.hiringlab.org/au/wp-content/uploads/sites/6/2019/03/1.-Postings.png' width=\"50%\" height=\"50%\">\n",
    "\n",
    "> - Data science jobs had increased steadily as a share of Australian job postings and then accelerated throughout 2018.  \n",
    "> - Postings rose 58% in 2018 and are more than five times higher than they were in 2014.  \n",
    "> - Momentum has shown no sign of slowing in early 2019, with postings tracking 30% ahead of the same period last year. "
   ]
  },
  {
   "cell_type": "markdown",
   "metadata": {
    "slideshow": {
     "slide_type": "slide"
    }
   },
   "source": [
    "These jobs are typically found in New South Wales and Victoria. The two states accounted for more than four out of five data science job advertisements in 2018, compared with two-thirds of total postings in Australia.\n",
    "\n",
    "<img src='https://www.hiringlab.org/au/wp-content/uploads/sites/6/2019/03/2.-State.png' width=\"60%\" height=\"60%\" style='float:right; margin:5px'>"
   ]
  },
  {
   "cell_type": "markdown",
   "metadata": {
    "slideshow": {
     "slide_type": "slide"
    }
   },
   "source": [
    "## Data Scientists\n",
    "Data scientists are the key to realizing the opportunities presented by big data. They bring structure to it, find compelling patterns in it, and advise executives on the implications for products, processes, and decisions\n",
    "\n",
    "<img src='https://cdn-infographic.pressidium.com/wp-content/uploads/Data-Scientist.jpg' width=\"500\" height=\"400\"/>\n"
   ]
  },
  {
   "cell_type": "markdown",
   "metadata": {
    "slideshow": {
     "slide_type": "slide"
    }
   },
   "source": [
    "## What do Data Scientists do?\n",
    "\n",
    "![](https://www.7wdata.be/wp-content/uploads/2018/04/data-scientistpng.png)"
   ]
  },
  {
   "cell_type": "markdown",
   "metadata": {
    "slideshow": {
     "slide_type": "fragment"
    }
   },
   "source": [
    "- National Security\n",
    "- Cyber Security\n",
    "- Business Analytics\n",
    "- Engineering \n",
    "- Healthcare \n",
    "- And more ….\n"
   ]
  },
  {
   "cell_type": "markdown",
   "metadata": {
    "slideshow": {
     "slide_type": "slide"
    }
   },
   "source": [
    "## Data Scientists Skills\n"
   ]
  },
  {
   "cell_type": "markdown",
   "metadata": {
    "slideshow": {
     "slide_type": "fragment"
    }
   },
   "source": [
    "- Knowledge in Stats, Data Mining, and Machine Learning\n",
    "- Open source tools such as Python\n",
    "- Data Visualisation\n",
    "- Data warehousing and architecture\n",
    "- Coding skills"
   ]
  },
  {
   "cell_type": "markdown",
   "metadata": {
    "slideshow": {
     "slide_type": "slide"
    }
   },
   "source": [
    "## How do businesses find our applicants?"
   ]
  },
  {
   "cell_type": "markdown",
   "metadata": {
    "slideshow": {
     "slide_type": "slide"
    }
   },
   "source": [
    "<img src='https://image.slidesharecdn.com/ismdatascientistfinal2-150323081840-conversion-gate01/95/take-aways-from-data-scientist-the-sexiest-job-of-the-21st-century-8-638.jpg?cb=1427098883' style='float:left; margin:5px'>"
   ]
  },
  {
   "cell_type": "markdown",
   "metadata": {
    "slideshow": {
     "slide_type": "slide"
    }
   },
   "source": [
    "## Data Science Jobs\n",
    "\n",
    "> Data science combines several disciplines, including statistics, data analysis, machine learning, and computer science. This can be daunting if you’re new to data science, but keep in mind that different roles and companies will emphasize some skills over others, so you don’t have to be an expert at everything. [Top 10 Careers in Data Science](https://au.indeed.com/career-advice/finding-a-job/careers-in-data-science)\n"
   ]
  },
  {
   "cell_type": "markdown",
   "metadata": {
    "slideshow": {
     "slide_type": "slide"
    }
   },
   "source": [
    "## Reading Data Science Job Descriptions\n",
    "\n",
    "> One important piece of advice for your job search is to read data science job descriptions carefully.  This will enable you to apply to jobs you’re already qualified for, or develop specific data skill sets to match the roles you want to pursue."
   ]
  },
  {
   "cell_type": "markdown",
   "metadata": {
    "slideshow": {
     "slide_type": "slide"
    }
   },
   "source": [
    "# [4 Types of Data Science Jobs](https://blog.udacity.com/2018/01/4-types-data-science-jobs.html)"
   ]
  },
  {
   "cell_type": "markdown",
   "metadata": {
    "slideshow": {
     "slide_type": "fragment"
    }
   },
   "source": [
    "## 1. The Data Analyst\n",
    "There are some companies where being a data scientist is synonymous with being a data analyst. \n",
    "\n",
    "Your job might consist of tasks like pulling data out of SQL databases, becoming an Excel or Tableau master, and producing basic data visualizations and reporting dashboards. You may on occasion analyze the results of an A/B test or take the lead on your company's Google Analytics account."
   ]
  },
  {
   "cell_type": "markdown",
   "metadata": {
    "slideshow": {
     "slide_type": "fragment"
    }
   },
   "source": [
    ">“A company like this is a great place for an aspiring data scientist to learn the ropes.”\n",
    "\n",
    "Once you have a handle on your day-to-day responsibilities, a company like this can be a great environment to try new things and expand your skillset."
   ]
  },
  {
   "cell_type": "markdown",
   "metadata": {
    "slideshow": {
     "slide_type": "slide"
    }
   },
   "source": [
    "## 2. The Data Engineer\n",
    "Some companies get to the point where they have a lot of traffic (and an increasingly large amount of data), and they start looking for someone to set up a lot of the data infrastructure that the company will need moving forward. \n",
    "\n",
    "They're also looking for someone to provide analysis. You'll see job postings listed under both “Data Scientist” and “Data Engineer” for this type of position. Since you'd be (one of) the first data hires, heavy statistics and machine learning expertise is less important than strong software engineering skills."
   ]
  },
  {
   "cell_type": "markdown",
   "metadata": {
    "slideshow": {
     "slide_type": "fragment"
    }
   },
   "source": [
    ">“Mentorship opportunities for junior data scientists can be less plentiful at a company looking to leverage rapidly increasing amounts of data.”\n",
    "\n",
    "As a result, you’ll have great opportunities to shine and grow via trial by fire, but there will be less guidance and you may face a greater risk of flopping or stagnating."
   ]
  },
  {
   "cell_type": "markdown",
   "metadata": {
    "slideshow": {
     "slide_type": "slide"
    }
   },
   "source": [
    "## 3. The Machine Learning Engineer\n",
    "There are a number of companies for whom their data (or their data analysis platform) is their product.\n",
    "\n",
    "In this case, the data analysis or machine learning going on can be pretty intense. This is probably the ideal situation for someone who has a formal mathematics, statistics, or physics background and is hoping to continue down a more academic path."
   ]
  },
  {
   "cell_type": "markdown",
   "metadata": {
    "slideshow": {
     "slide_type": "fragment"
    }
   },
   "source": [
    ">“Machine Learning Engineers often focus more on producing great data-driven products than they do answering operational questions for a company.”\n",
    "\n",
    "Companies that fall into this group could be consumer-facing companies with massive amounts of data or companies that are offering a data-based service."
   ]
  },
  {
   "cell_type": "markdown",
   "metadata": {
    "slideshow": {
     "slide_type": "slide"
    }
   },
   "source": [
    "## 4. The Data Science Generalist\n",
    "A lot of companies are looking for a generalist to join an established team of other data scientists. The company you're interviewing for cares about data but probably isn't a data company.\n",
    "\n",
    "It’s equally important that you can perform analysis, touch production code, visualize data, etc."
   ]
  },
  {
   "cell_type": "markdown",
   "metadata": {
    "slideshow": {
     "slide_type": "fragment"
    }
   },
   "source": [
    ">“Some of the most important ‘data generalist’ skills are familiarity with tools designed for ‘big data,’ and experience with messy, ‘real-life’ datasets.”\n",
    "\n",
    "Generally, these companies are either looking for generalists or they’re looking to fill a specific niche where they feel their team is lacking, such as data visualization or machine learning."
   ]
  },
  {
   "cell_type": "markdown",
   "metadata": {
    "slideshow": {
     "slide_type": "slide"
    }
   },
   "source": [
    "## You May Be More Qualified Than You Think!\n",
    "\n",
    "Hopefully this gives you a sense of just how broad the title “data scientist” is. \n",
    "\n",
    "Different companies are seeking different skillsets, expertise, and experience levels. As you look for your ideal data scientist job, make sure to look closely at the job descriptions, to find the role and company that best match your skills and experience. "
   ]
  },
  {
   "cell_type": "markdown",
   "metadata": {
    "slideshow": {
     "slide_type": "fragment"
    }
   },
   "source": [
    "> And remember, you may be more qualified than you think!"
   ]
  },
  {
   "cell_type": "markdown",
   "metadata": {
    "slideshow": {
     "slide_type": "slide"
    }
   },
   "source": [
    "## Acknowledgement\n",
    "\n",
    "Kamal Al Nasr, Matthew Hayes and Jean-Claude Pedjeu, Tennessee State University  \n",
    "Greg Farrenkopf, PPC Specialist at Geek Powered Studios"
   ]
  }
 ],
 "metadata": {
  "celltoolbar": "Slideshow",
  "kernelspec": {
   "display_name": "Python 3 (ipykernel)",
   "language": "python",
   "name": "python3"
  },
  "language_info": {
   "codemirror_mode": {
    "name": "ipython",
    "version": 3
   },
   "file_extension": ".py",
   "mimetype": "text/x-python",
   "name": "python",
   "nbconvert_exporter": "python",
   "pygments_lexer": "ipython3",
   "version": "3.11.4"
  }
 },
 "nbformat": 4,
 "nbformat_minor": 2
}
