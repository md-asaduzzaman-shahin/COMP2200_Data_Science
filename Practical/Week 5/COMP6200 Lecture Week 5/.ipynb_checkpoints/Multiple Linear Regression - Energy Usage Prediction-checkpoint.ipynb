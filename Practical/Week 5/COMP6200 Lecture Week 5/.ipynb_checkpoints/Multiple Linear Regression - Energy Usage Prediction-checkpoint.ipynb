{
 "cells": [
  {
   "cell_type": "markdown",
   "metadata": {},
   "source": [
    "### Problem "
   ]
  },
  {
   "cell_type": "markdown",
   "metadata": {},
   "source": [
    "The task is to predict the energy usage of a house based on Internet of Things (IoT) measurements of temperature, humidity, and weather observations. "
   ]
  },
  {
   "cell_type": "markdown",
   "metadata": {},
   "source": [
    "### Relevant Paper"
   ]
  },
  {
   "cell_type": "markdown",
   "metadata": {},
   "source": [
    "Data driven prediction models of energy use of appliances in a low-energy house. Luis M. Candanedo, Véronique Feldheim, Dominique Deramaix. Energy and Buildings, Volume 140, 1 April 2017, Pages 81-97, ISSN 0378-7788, http://dx.doi.org/10.1016/j.enbuild.2017.01.083."
   ]
  },
  {
   "cell_type": "markdown",
   "metadata": {},
   "source": [
    "### Data Source"
   ]
  },
  {
   "cell_type": "markdown",
   "metadata": {},
   "source": [
    "The authors provide their code and data in a [Github Repository](https://github.com/LuisM78/Appliances-energy-prediction-data)\n",
    "\n",
    "The repository contains the complete data (energydata_complete.csv) as well as the training and testing splits used in the paper."
   ]
  },
  {
   "cell_type": "code",
   "execution_count": null,
   "metadata": {},
   "outputs": [],
   "source": [
    "import os\n",
    "import re\n",
    "import numpy as np\n",
    "import pandas as pd\n",
    "import datetime\n",
    "import matplotlib.pyplot as plt \n",
    "import seaborn as sns\n",
    "plt.style.use('seaborn')\n",
    "%matplotlib inline"
   ]
  },
  {
   "cell_type": "code",
   "execution_count": null,
   "metadata": {},
   "outputs": [],
   "source": [
    "from sklearn.model_selection import train_test_split\n",
    "from sklearn import linear_model\n",
    "from sklearn.metrics import r2_score, mean_squared_error, mean_absolute_error\n",
    "from sklearn.feature_selection import RFE, RFECV"
   ]
  },
  {
   "cell_type": "markdown",
   "metadata": {},
   "source": [
    "## Reading Data"
   ]
  },
  {
   "cell_type": "code",
   "execution_count": null,
   "metadata": {},
   "outputs": [],
   "source": [
    "complete_data = pd.read_csv('appliances-energy-prediction-data/energydata_complete.csv')\n",
    "train_data = pd.read_csv('appliances-energy-prediction-data/training.csv')\n",
    "test_data = pd.read_csv('appliances-energy-prediction-data/testing.csv')\n",
    "print(\"complete_data shape: \", complete_data.shape)\n",
    "print(\"train_data shape: \", train_data.shape)\n",
    "print(\"test_data shape: \", test_data.shape)"
   ]
  },
  {
   "cell_type": "code",
   "execution_count": null,
   "metadata": {},
   "outputs": [],
   "source": [
    "# checking head of training data\n",
    "print(train_data.head())"
   ]
  },
  {
   "cell_type": "code",
   "execution_count": null,
   "metadata": {},
   "outputs": [],
   "source": [
    "print(set(train_data['WeekStatus']))"
   ]
  },
  {
   "cell_type": "code",
   "execution_count": null,
   "metadata": {},
   "outputs": [],
   "source": [
    "print(set(train_data['Day_of_week']))"
   ]
  },
  {
   "cell_type": "code",
   "execution_count": null,
   "metadata": {},
   "outputs": [],
   "source": [
    "# Data preparation for modeling\n",
    "complete_data.index = pd.to_datetime(complete_data['date'])\n",
    "train_data.index = pd.to_datetime(train_data['date'])\n",
    "test_data.index = pd.to_datetime(test_data['date'])\n",
    "train_data.head()"
   ]
  },
  {
   "cell_type": "markdown",
   "metadata": {},
   "source": [
    "### Converting 'Day_of_week' from 'string' to 'Numbers'"
   ]
  },
  {
   "cell_type": "code",
   "execution_count": null,
   "metadata": {},
   "outputs": [],
   "source": [
    "train_data['Day_of_week'] = train_data.index.weekday\n",
    "test_data['Day_of_week'] = test_data.index.weekday"
   ]
  },
  {
   "cell_type": "markdown",
   "metadata": {},
   "source": [
    "### Converting WeekStatus from 'string' to 'Numbers' using get_dummies"
   ]
  },
  {
   "cell_type": "code",
   "execution_count": null,
   "metadata": {},
   "outputs": [],
   "source": [
    "# Changing 'Weekstatus'\n",
    "train_data['WeekStatus'] = pd.get_dummies(train_data['WeekStatus'])\n",
    "test_data['WeekStatus'] = pd.get_dummies(test_data['WeekStatus'])\n",
    "train_data.head()"
   ]
  },
  {
   "cell_type": "markdown",
   "metadata": {},
   "source": [
    "### Split the data into train data and train label, test data and test label"
   ]
  },
  {
   "cell_type": "code",
   "execution_count": null,
   "metadata": {},
   "outputs": [],
   "source": [
    "# data split\n",
    "X_train = train_data.drop(['Appliances', 'date'], axis=1)\n",
    "y_train = train_data['Appliances']\n",
    "X_test = test_data.drop(['Appliances', 'date'], axis=1)\n",
    "y_test = test_data['Appliances']\n",
    "print(\"X_train shape: \", X_train.shape)\n",
    "print(\"y_train shape: \", y_train.shape)\n",
    "print(\"X_test shape: \", X_test.shape)\n",
    "print(\"y_test shape: \", y_test.shape)"
   ]
  },
  {
   "cell_type": "code",
   "execution_count": null,
   "metadata": {},
   "outputs": [],
   "source": [
    "lr_model = linear_model.LinearRegression()\n",
    "lr_model.fit(X_train, y_train)"
   ]
  },
  {
   "cell_type": "markdown",
   "metadata": {},
   "source": [
    "### Evaluation metrics on test data"
   ]
  },
  {
   "cell_type": "code",
   "execution_count": null,
   "metadata": {},
   "outputs": [],
   "source": [
    "y_test_pred = lr_model.predict(X_test)\n",
    "print(\"MSE: \", mean_squared_error(y_test, y_test_pred))\n",
    "print(\"RMSE: \", np.sqrt(mean_squared_error(y_test, y_test_pred)))\n",
    "print(\"R^2: \", r2_score(y_test, y_test_pred))\n",
    "print(\"MAE: \", mean_absolute_error(y_test, y_test_pred))"
   ]
  },
  {
   "cell_type": "markdown",
   "metadata": {},
   "source": [
    "### Evaluation metrics on train data"
   ]
  },
  {
   "cell_type": "code",
   "execution_count": null,
   "metadata": {},
   "outputs": [],
   "source": [
    "y_train_pred = lr_model.predict(X_train)\n",
    "print(\"MSE: \", mean_squared_error(y_train, y_train_pred))\n",
    "print(\"RMSE: \", np.sqrt(mean_squared_error(y_train, y_train_pred)))\n",
    "print(\"R^2: \", r2_score(y_train, y_train_pred))\n",
    "print(\"MAE: \", mean_absolute_error(y_train, y_train_pred))"
   ]
  },
  {
   "cell_type": "markdown",
   "metadata": {},
   "source": [
    "### Checking the impact of number of features"
   ]
  },
  {
   "cell_type": "code",
   "execution_count": null,
   "metadata": {},
   "outputs": [],
   "source": [
    "RMSE_list = []\n",
    "for i in range(1, 30):\n",
    "    model = linear_model.LinearRegression()\n",
    "    selector = RFE(model, i)\n",
    "    selector.fit(X_train, y_train)\n",
    "    y_predicted_test = selector.predict(X_test)\n",
    "    RMSE_list.append(np.sqrt(mean_squared_error(y_test, y_predicted_test)))"
   ]
  },
  {
   "cell_type": "code",
   "execution_count": null,
   "metadata": {},
   "outputs": [],
   "source": [
    "# Plot\n",
    "RMSE_df = pd.DataFrame(RMSE_list, columns=['RMSE'])\n",
    "plt.figure(figsize=(20,10))\n",
    "sns.lineplot(data=RMSE_df)\n",
    "plt.title('Effect of increasing number of features on RMSE value')\n",
    "plt.xlabel('No. of features')\n",
    "plt.ylabel('RMSE')"
   ]
  },
  {
   "cell_type": "markdown",
   "metadata": {},
   "source": [
    "### Finding most important features"
   ]
  },
  {
   "cell_type": "code",
   "execution_count": null,
   "metadata": {},
   "outputs": [],
   "source": [
    "model = linear_model.LinearRegression()\n",
    "top_15 = 15\n",
    "selector = RFE(model, top_15)\n",
    "selector.fit(X_train, y_train)\n",
    "y_predicted_test = selector.predict(X_test)\n",
    "support_var = selector.get_support()\n",
    "print(\"Top 15 important features: \", X_train.columns[support_var])"
   ]
  },
  {
   "cell_type": "code",
   "execution_count": null,
   "metadata": {},
   "outputs": [],
   "source": []
  }
 ],
 "metadata": {
  "kernelspec": {
   "display_name": "Python 3",
   "language": "python",
   "name": "python3"
  },
  "language_info": {
   "codemirror_mode": {
    "name": "ipython",
    "version": 3
   },
   "file_extension": ".py",
   "mimetype": "text/x-python",
   "name": "python",
   "nbconvert_exporter": "python",
   "pygments_lexer": "ipython3",
   "version": "3.7.3"
  }
 },
 "nbformat": 4,
 "nbformat_minor": 2
}
